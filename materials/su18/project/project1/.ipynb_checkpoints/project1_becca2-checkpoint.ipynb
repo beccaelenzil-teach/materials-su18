{
 "cells": [
  {
   "cell_type": "markdown",
   "metadata": {
    "colab_type": "text",
    "id": "Mz-ZXBqeNj_P"
   },
   "source": [
    "## World Progress"
   ]
  },
  {
   "cell_type": "markdown",
   "metadata": {
    "colab_type": "text",
    "id": "zZXAU2IxNj_Q"
   },
   "source": [
    "In this project, you'll explore data from [Gapminder.org](http://gapminder.org), a website dedicated to providing a fact-based view of the world and how it has changed. That site includes several data visualizations and presentations, but also publishes the raw data that we will use in this project to recreate and extend some of their most famous visualizations.\n",
    "\n",
    "The Gapminder website collects data from many sources and compiles them into tables that describe many countries around the world. All of the data they aggregate are published in the [Systema Globalis](https://github.com/open-numbers/ddf--gapminder--systema_globalis/blob/master/README.md). Their goal is \"to compile all public statistics; Social, Economic and Environmental; into a comparable total dataset.\" All data sets in this project are copied directly from the Systema Globalis without any changes.\n",
    "\n",
    "This project is dedicated to [Hans Rosling](https://en.wikipedia.org/wiki/Hans_Rosling) (1948-2017), who championed the use of data to understand and prioritize global development challenges."
   ]
  },
  {
   "cell_type": "markdown",
   "metadata": {
    "colab_type": "text",
    "id": "Nbbbh0KWWuth"
   },
   "source": [
    "### Logistics\n",
    "\n",
    "**Deadline.** This project is due at 11:59pm on Friday 7/6. Projects will be accepted up to 2 days (48 hours) late; a project submitted less than 24 hours after the deadline will receive 2/3 credit, a project submitted between 24 and 48 hours after the deadline will receive 1/3 credit, and a project submitted 48 hours or more after the deadline will receive no credit. It's **much** better to be early than late, so start working now.\n",
    "\n",
    "**Partners.** You may work with one other partner; your partner must be from your assigned lab section. Only one of you is required to submit the project. On [okpy.org](http://okpy.org), the person who submits should also designate their partner so that both of you receive credit.\n",
    "\n",
    "**Rules.** Don't share your code with anybody but your partner. You are welcome to discuss questions with other students, but don't share the answers. The experience of solving the problems in this project will prepare you for exams (and life). If someone asks you for the answer, resist! Instead, you can demonstrate how you would solve a similar problem.\n",
    "\n",
    "**Support.** You are not alone! Come to office hours, post on Piazza, and talk to your classmates. If you want to ask about the details of your solution to a problem, make a private Piazza post and the staff will respond. If you're ever feeling overwhelmed or don't know how to make progress, email your TA or tutor for help. You can find contact information for the staff on the [course website](http://data8.org/su18/staff.html).\n",
    "\n",
    "**Tests.** The tests that are given are **not comprehensive** and passing the tests for a question **does not** mean that you answered the question correctly. Tests usually only check that your table has the correct column labels. However, more tests will be applied to verify the correctness of your submission in order to assign your final score, so be careful and check your work! You might want to create your own checks along the way to see if your answers make sense. Additionally, before you submit, make sure that none of your cells take a very long time to run (several minutes).\n",
    "\n",
    "**Free Response Questions:** Make sure that you put the answers to the written questions in the indicated cell we provide. Check to make sure that you have a [Gradescope](http://gradescope.com) account, which is where the scores to the free response questions will be posted. If you do not, make sure to reach out to your assigned (u)GSI.\n",
    "\n",
    "**Advice.** Develop your answers incrementally. To perform a complicated table manipulation, break it up into steps, perform each step on a different line, give a new name to each result, and check that each intermediate result is what you expect. You can add any additional names or functions you want to the provided cells. Make sure that you are using distinct and meaningful variable names throughout the notebook. Along that line, **DO NOT** reuse the variable names that we use when we grade your answers. For example, in Question 1 of the Global Poverty section, we ask you to assign an answer to `latest`. Do not reassign the variable name `latest` to anything else in your notebook, otherwise there is the chance that our tests grade against what `latest` was reassigned to.\n",
    "\n",
    "You **never** have to use just one line in this project or any others. Use intermediate variables and multiple lines as much as you would like!  \n",
    "\n",
    "To get started, load `datascience`, `numpy`, `plots`, and `ok`."
   ]
  },
  {
   "cell_type": "code",
   "execution_count": 1,
   "metadata": {
    "colab": {},
    "colab_type": "code",
    "id": "ZB1q5EGSWutf"
   },
   "outputs": [
    {
     "name": "stdout",
     "output_type": "stream",
     "text": [
      "Requirement already satisfied: datascience in /anaconda3/lib/python3.6/site-packages\n",
      "Requirement already satisfied: pytest in /anaconda3/lib/python3.6/site-packages (from datascience)\n",
      "Requirement already satisfied: setuptools in /anaconda3/lib/python3.6/site-packages (from datascience)\n",
      "Requirement already satisfied: coveralls==0.5 in /anaconda3/lib/python3.6/site-packages (from datascience)\n",
      "Requirement already satisfied: folium==0.2.1 in /anaconda3/lib/python3.6/site-packages (from datascience)\n",
      "Requirement already satisfied: coverage==3.7.1 in /anaconda3/lib/python3.6/site-packages (from datascience)\n",
      "Requirement already satisfied: sphinx in /anaconda3/lib/python3.6/site-packages (from datascience)\n",
      "Requirement already satisfied: py>=1.5.0 in /anaconda3/lib/python3.6/site-packages (from pytest->datascience)\n",
      "Requirement already satisfied: six>=1.10.0 in /anaconda3/lib/python3.6/site-packages (from pytest->datascience)\n",
      "Requirement already satisfied: attrs>=17.2.0 in /anaconda3/lib/python3.6/site-packages (from pytest->datascience)\n",
      "Requirement already satisfied: pluggy<0.7,>=0.5 in /anaconda3/lib/python3.6/site-packages (from pytest->datascience)\n",
      "Requirement already satisfied: docopt>=0.6.1 in /anaconda3/lib/python3.6/site-packages (from coveralls==0.5->datascience)\n",
      "Requirement already satisfied: PyYAML>=3.10 in /anaconda3/lib/python3.6/site-packages (from coveralls==0.5->datascience)\n",
      "Requirement already satisfied: requests>=1.0.0 in /anaconda3/lib/python3.6/site-packages (from coveralls==0.5->datascience)\n",
      "Requirement already satisfied: Jinja2 in /anaconda3/lib/python3.6/site-packages (from folium==0.2.1->datascience)\n",
      "Requirement already satisfied: Pygments>=2.0 in /anaconda3/lib/python3.6/site-packages (from sphinx->datascience)\n",
      "Requirement already satisfied: docutils>=0.11 in /anaconda3/lib/python3.6/site-packages (from sphinx->datascience)\n",
      "Requirement already satisfied: snowballstemmer>=1.1 in /anaconda3/lib/python3.6/site-packages (from sphinx->datascience)\n",
      "Requirement already satisfied: babel!=2.0,>=1.3 in /anaconda3/lib/python3.6/site-packages (from sphinx->datascience)\n",
      "Requirement already satisfied: alabaster<0.8,>=0.7 in /anaconda3/lib/python3.6/site-packages (from sphinx->datascience)\n",
      "Requirement already satisfied: imagesize in /anaconda3/lib/python3.6/site-packages (from sphinx->datascience)\n",
      "Requirement already satisfied: sphinxcontrib-websupport in /anaconda3/lib/python3.6/site-packages (from sphinx->datascience)\n",
      "Requirement already satisfied: chardet<3.1.0,>=3.0.2 in /anaconda3/lib/python3.6/site-packages (from requests>=1.0.0->coveralls==0.5->datascience)\n",
      "Requirement already satisfied: idna<2.7,>=2.5 in /anaconda3/lib/python3.6/site-packages (from requests>=1.0.0->coveralls==0.5->datascience)\n",
      "Requirement already satisfied: urllib3<1.23,>=1.21.1 in /anaconda3/lib/python3.6/site-packages (from requests>=1.0.0->coveralls==0.5->datascience)\n",
      "Requirement already satisfied: certifi>=2017.4.17 in /anaconda3/lib/python3.6/site-packages (from requests>=1.0.0->coveralls==0.5->datascience)\n",
      "Requirement already satisfied: MarkupSafe>=0.23 in /anaconda3/lib/python3.6/site-packages (from Jinja2->folium==0.2.1->datascience)\n",
      "Requirement already satisfied: pytz>=0a in /anaconda3/lib/python3.6/site-packages (from babel!=2.0,>=1.3->sphinx->datascience)\n",
      "\u001b[33mYou are using pip version 9.0.1, however version 18.1 is available.\n",
      "You should consider upgrading via the 'pip install --upgrade pip' command.\u001b[0m\n",
      "Requirement already satisfied: okgrade in /anaconda3/lib/python3.6/site-packages\n",
      "\u001b[33mYou are using pip version 9.0.1, however version 18.1 is available.\n",
      "You should consider upgrading via the 'pip install --upgrade pip' command.\u001b[0m\n"
     ]
    }
   ],
   "source": [
    "!pip install datascience\n",
    "!pip install okgrade"
   ]
  },
  {
   "cell_type": "code",
   "execution_count": 2,
   "metadata": {
    "colab": {},
    "colab_type": "code",
    "id": "Vu5g3xaNdfrN"
   },
   "outputs": [],
   "source": [
    "from datascience import *\n",
    "import numpy as np\n",
    "from okgrade import *\n",
    "\n",
    "%matplotlib inline\n",
    "import matplotlib.pyplot as plots\n",
    "plots.style.use('fivethirtyeight')"
   ]
  },
  {
   "cell_type": "code",
   "execution_count": 4,
   "metadata": {
    "colab": {
     "base_uri": "https://localhost:8080/",
     "height": 3964
    },
    "colab_type": "code",
    "id": "u0q2w6AlWutc",
    "outputId": "f0a886ae-7d98-4836-8563-3b76cf1dc182"
   },
   "outputs": [
    {
     "name": "stdout",
     "output_type": "stream",
     "text": [
      "--2018-10-18 17:40:44--  https://raw.githubusercontent.com/bushschool/data-science/master/project/project1/tests/q1_1.ok\n",
      "Resolving raw.githubusercontent.com (raw.githubusercontent.com)... 151.101.0.133, 151.101.64.133, 151.101.128.133, ...\n",
      "Connecting to raw.githubusercontent.com (raw.githubusercontent.com)|151.101.0.133|:443... connected.\n",
      "HTTP request sent, awaiting response... 200 OK\n",
      "Length: 915 [text/plain]\n",
      "Saving to: ‘q1_1.ok’\n",
      "\n",
      "\r",
      "q1_1.ok               0%[                    ]       0  --.-KB/s               \r",
      "q1_1.ok             100%[===================>]     915  --.-KB/s    in 0s      \n",
      "\n",
      "2018-10-18 17:40:44 (95.0 MB/s) - ‘q1_1.ok’ saved [915/915]\n",
      "\n",
      "--2018-10-18 17:40:45--  https://raw.githubusercontent.com/bushschool/data-science/master/project/project1/tests/q1_11.ok\n",
      "Resolving raw.githubusercontent.com (raw.githubusercontent.com)... 151.101.0.133, 151.101.64.133, 151.101.128.133, ...\n",
      "Connecting to raw.githubusercontent.com (raw.githubusercontent.com)|151.101.0.133|:443... connected.\n",
      "HTTP request sent, awaiting response... 200 OK\n",
      "Length: 2855 (2.8K) [text/plain]\n",
      "Saving to: ‘q1_11.ok’\n",
      "\n",
      "q1_11.ok            100%[===================>]   2.79K  --.-KB/s    in 0s      \n",
      "\n",
      "2018-10-18 17:40:45 (46.7 MB/s) - ‘q1_11.ok’ saved [2855/2855]\n",
      "\n",
      "--2018-10-18 17:40:45--  https://raw.githubusercontent.com/bushschool/data-science/master/project/project1/tests/q1_12.ok\n",
      "Resolving raw.githubusercontent.com (raw.githubusercontent.com)... 151.101.0.133, 151.101.64.133, 151.101.128.133, ...\n",
      "Connecting to raw.githubusercontent.com (raw.githubusercontent.com)|151.101.0.133|:443... connected.\n",
      "HTTP request sent, awaiting response... 200 OK\n",
      "Length: 674 [text/plain]\n",
      "Saving to: ‘q1_12.ok’\n",
      "\n",
      "q1_12.ok            100%[===================>]     674  --.-KB/s    in 0s      \n",
      "\n",
      "2018-10-18 17:40:46 (63.4 MB/s) - ‘q1_12.ok’ saved [674/674]\n",
      "\n",
      "--2018-10-18 17:40:46--  https://raw.githubusercontent.com/bushschool/data-science/master/project/project1/tests/q1_12_0.ok\n",
      "Resolving raw.githubusercontent.com (raw.githubusercontent.com)... 151.101.0.133, 151.101.64.133, 151.101.128.133, ...\n",
      "Connecting to raw.githubusercontent.com (raw.githubusercontent.com)|151.101.0.133|:443... connected.\n",
      "HTTP request sent, awaiting response... 200 OK\n",
      "Length: 556 [text/plain]\n",
      "Saving to: ‘q1_12_0.ok’\n",
      "\n",
      "q1_12_0.ok          100%[===================>]     556  --.-KB/s    in 0s      \n",
      "\n",
      "2018-10-18 17:40:47 (59.8 MB/s) - ‘q1_12_0.ok’ saved [556/556]\n",
      "\n",
      "--2018-10-18 17:40:48--  https://raw.githubusercontent.com/bushschool/data-science/master/project/project1/tests/q1_13.ok\n",
      "Resolving raw.githubusercontent.com (raw.githubusercontent.com)... 151.101.0.133, 151.101.64.133, 151.101.128.133, ...\n",
      "Connecting to raw.githubusercontent.com (raw.githubusercontent.com)|151.101.0.133|:443... connected.\n",
      "HTTP request sent, awaiting response... 200 OK\n",
      "Length: 654 [text/plain]\n",
      "Saving to: ‘q1_13.ok’\n",
      "\n",
      "q1_13.ok            100%[===================>]     654  --.-KB/s    in 0s      \n",
      "\n",
      "2018-10-18 17:40:48 (63.6 MB/s) - ‘q1_13.ok’ saved [654/654]\n",
      "\n",
      "--2018-10-18 17:40:49--  https://raw.githubusercontent.com/bushschool/data-science/master/project/project1/tests/q1_14.ok\n",
      "Resolving raw.githubusercontent.com (raw.githubusercontent.com)... 151.101.0.133, 151.101.64.133, 151.101.128.133, ...\n",
      "Connecting to raw.githubusercontent.com (raw.githubusercontent.com)|151.101.0.133|:443... connected.\n",
      "HTTP request sent, awaiting response... 200 OK\n",
      "Length: 449 [text/plain]\n",
      "Saving to: ‘q1_14.ok’\n",
      "\n",
      "q1_14.ok            100%[===================>]     449  --.-KB/s    in 0s      \n",
      "\n",
      "2018-10-18 17:40:49 (48.1 MB/s) - ‘q1_14.ok’ saved [449/449]\n",
      "\n",
      "--2018-10-18 17:40:49--  https://raw.githubusercontent.com/bushschool/data-science/master/project/project1/tests/q1_2.ok\n",
      "Resolving raw.githubusercontent.com (raw.githubusercontent.com)... 151.101.0.133, 151.101.64.133, 151.101.128.133, ...\n",
      "Connecting to raw.githubusercontent.com (raw.githubusercontent.com)|151.101.0.133|:443... connected.\n",
      "HTTP request sent, awaiting response... 200 OK\n",
      "Length: 1204 (1.2K) [text/plain]\n",
      "Saving to: ‘q1_2.ok’\n",
      "\n",
      "q1_2.ok             100%[===================>]   1.18K  --.-KB/s    in 0s      \n",
      "\n",
      "2018-10-18 17:40:50 (125 MB/s) - ‘q1_2.ok’ saved [1204/1204]\n",
      "\n",
      "--2018-10-18 17:40:50--  https://raw.githubusercontent.com/bushschool/data-science/master/project/project1/tests/q1_5.ok\n",
      "Resolving raw.githubusercontent.com (raw.githubusercontent.com)... 151.101.0.133, 151.101.64.133, 151.101.128.133, ...\n",
      "Connecting to raw.githubusercontent.com (raw.githubusercontent.com)|151.101.0.133|:443... connected.\n",
      "HTTP request sent, awaiting response... 200 OK\n",
      "Length: 868 [text/plain]\n",
      "Saving to: ‘q1_5.ok’\n",
      "\n",
      "q1_5.ok             100%[===================>]     868  --.-KB/s    in 0s      \n",
      "\n",
      "2018-10-18 17:40:51 (92.7 MB/s) - ‘q1_5.ok’ saved [868/868]\n",
      "\n",
      "--2018-10-18 17:40:52--  https://raw.githubusercontent.com/bushschool/data-science/master/project/project1/tests/q1_7.ok\n",
      "Resolving raw.githubusercontent.com (raw.githubusercontent.com)... 151.101.0.133, 151.101.64.133, 151.101.128.133, ...\n",
      "Connecting to raw.githubusercontent.com (raw.githubusercontent.com)|151.101.0.133|:443... connected.\n",
      "HTTP request sent, awaiting response... 200 OK\n",
      "Length: 771 [text/plain]\n",
      "Saving to: ‘q1_7.ok’\n",
      "\n",
      "q1_7.ok             100%[===================>]     771  --.-KB/s    in 0s      \n",
      "\n",
      "2018-10-18 17:40:52 (81.0 MB/s) - ‘q1_7.ok’ saved [771/771]\n",
      "\n",
      "--2018-10-18 17:40:53--  https://raw.githubusercontent.com/bushschool/data-science/master/project/project1/tests/q1_9.ok\n",
      "Resolving raw.githubusercontent.com (raw.githubusercontent.com)... 151.101.0.133, 151.101.64.133, 151.101.128.133, ...\n",
      "Connecting to raw.githubusercontent.com (raw.githubusercontent.com)|151.101.0.133|:443... connected.\n",
      "HTTP request sent, awaiting response... 200 OK\n",
      "Length: 450 [text/plain]\n",
      "Saving to: ‘q1_9.ok’\n",
      "\n",
      "q1_9.ok             100%[===================>]     450  --.-KB/s    in 0s      \n",
      "\n",
      "2018-10-18 17:40:53 (49.3 MB/s) - ‘q1_9.ok’ saved [450/450]\n",
      "\n",
      "--2018-10-18 17:40:54--  https://raw.githubusercontent.com/bushschool/data-science/master/project/project1/tests/q2_1.ok\n",
      "Resolving raw.githubusercontent.com (raw.githubusercontent.com)... 151.101.0.133, 151.101.64.133, 151.101.128.133, ...\n",
      "Connecting to raw.githubusercontent.com (raw.githubusercontent.com)|151.101.0.133|:443... connected.\n",
      "HTTP request sent, awaiting response... 200 OK\n",
      "Length: 652 [text/plain]\n",
      "Saving to: ‘q2_1.ok’\n",
      "\n",
      "q2_1.ok             100%[===================>]     652  --.-KB/s    in 0s      \n",
      "\n",
      "2018-10-18 17:40:54 (65.6 MB/s) - ‘q2_1.ok’ saved [652/652]\n",
      "\n",
      "--2018-10-18 17:40:55--  https://raw.githubusercontent.com/bushschool/data-science/master/project/project1/tests/q2_2.ok\n",
      "Resolving raw.githubusercontent.com (raw.githubusercontent.com)... 151.101.0.133, 151.101.64.133, 151.101.128.133, ...\n",
      "Connecting to raw.githubusercontent.com (raw.githubusercontent.com)|151.101.0.133|:443... connected.\n",
      "HTTP request sent, awaiting response... 200 OK\n",
      "Length: 1135 (1.1K) [text/plain]\n",
      "Saving to: ‘q2_2.ok’\n",
      "\n",
      "q2_2.ok             100%[===================>]   1.11K  --.-KB/s    in 0s      \n",
      "\n",
      "2018-10-18 17:40:56 (94.0 MB/s) - ‘q2_2.ok’ saved [1135/1135]\n",
      "\n",
      "--2018-10-18 17:40:56--  https://raw.githubusercontent.com/bushschool/data-science/master/project/project1/tests/q2_3.ok\n",
      "Resolving raw.githubusercontent.com (raw.githubusercontent.com)... 151.101.0.133, 151.101.64.133, 151.101.128.133, ...\n",
      "Connecting to raw.githubusercontent.com (raw.githubusercontent.com)|151.101.0.133|:443... connected.\n",
      "HTTP request sent, awaiting response... 200 OK\n",
      "Length: 363 [text/plain]\n",
      "Saving to: ‘q2_3.ok’\n",
      "\n",
      "q2_3.ok             100%[===================>]     363  --.-KB/s    in 0s      \n",
      "\n",
      "2018-10-18 17:40:57 (18.3 MB/s) - ‘q2_3.ok’ saved [363/363]\n",
      "\n",
      "--2018-10-18 17:40:59--  https://raw.githubusercontent.com/bushschool/data-science/master/project/project1/tests/q2_4.ok\n",
      "Resolving raw.githubusercontent.com (raw.githubusercontent.com)... 151.101.0.133, 151.101.64.133, 151.101.128.133, ...\n",
      "Connecting to raw.githubusercontent.com (raw.githubusercontent.com)|151.101.0.133|:443... connected.\n",
      "HTTP request sent, awaiting response... 200 OK\n",
      "Length: 764 [text/plain]\n",
      "Saving to: ‘q2_4.ok’\n",
      "\n",
      "q2_4.ok             100%[===================>]     764  --.-KB/s    in 0s      \n",
      "\n",
      "2018-10-18 17:40:59 (85.1 MB/s) - ‘q2_4.ok’ saved [764/764]\n",
      "\n",
      "--2018-10-18 17:40:59--  https://raw.githubusercontent.com/bushschool/data-science/master/project/project1/tests/q2_5.ok\n",
      "Resolving raw.githubusercontent.com (raw.githubusercontent.com)... 151.101.0.133, 151.101.64.133, 151.101.128.133, ...\n",
      "Connecting to raw.githubusercontent.com (raw.githubusercontent.com)|151.101.0.133|:443... connected.\n",
      "HTTP request sent, awaiting response... 200 OK\n",
      "Length: 931 [text/plain]\n",
      "Saving to: ‘q2_5.ok’\n",
      "\n",
      "q2_5.ok             100%[===================>]     931  --.-KB/s    in 0s      \n",
      "\n",
      "2018-10-18 17:41:00 (90.9 MB/s) - ‘q2_5.ok’ saved [931/931]\n",
      "\n",
      "--2018-10-18 17:41:00--  https://raw.githubusercontent.com/bushschool/data-science/master/project/project1/child_mortality.csv\n",
      "Resolving raw.githubusercontent.com (raw.githubusercontent.com)... 151.101.0.133, 151.101.64.133, 151.101.128.133, ...\n",
      "Connecting to raw.githubusercontent.com (raw.githubusercontent.com)|151.101.0.133|:443... connected.\n",
      "HTTP request sent, awaiting response... 200 OK\n",
      "Length: 595044 (581K) [text/plain]\n",
      "Saving to: ‘child_mortality.csv’\n",
      "\n",
      "child_mortality.csv 100%[===================>] 581.10K  --.-KB/s    in 0.08s   \n",
      "\n",
      "2018-10-18 17:41:01 (7.30 MB/s) - ‘child_mortality.csv’ saved [595044/595044]\n",
      "\n",
      "--2018-10-18 17:41:01--  https://raw.githubusercontent.com/bushschool/data-science/master/project/project1/countries.csv\n",
      "Resolving raw.githubusercontent.com (raw.githubusercontent.com)... 151.101.0.133, 151.101.64.133, 151.101.128.133, ...\n",
      "Connecting to raw.githubusercontent.com (raw.githubusercontent.com)|151.101.0.133|:443... connected.\n",
      "HTTP request sent, awaiting response... 200 OK\n",
      "Length: 45141 (44K) [text/plain]\n",
      "Saving to: ‘countries.csv’\n",
      "\n",
      "countries.csv       100%[===================>]  44.08K  --.-KB/s    in 0.01s   \n",
      "\n",
      "2018-10-18 17:41:01 (3.13 MB/s) - ‘countries.csv’ saved [45141/45141]\n",
      "\n",
      "--2018-10-18 17:41:02--  https://raw.githubusercontent.com/bushschool/data-science/master/project/project1/fertility.csv\n",
      "Resolving raw.githubusercontent.com (raw.githubusercontent.com)... 151.101.0.133, 151.101.64.133, 151.101.128.133, ...\n",
      "Connecting to raw.githubusercontent.com (raw.githubusercontent.com)|151.101.0.133|:443... connected.\n",
      "HTTP request sent, awaiting response... 200 OK\n",
      "Length: 601467 (587K) [text/plain]\n",
      "Saving to: ‘fertility.csv’\n",
      "\n",
      "fertility.csv       100%[===================>] 587.37K  --.-KB/s    in 0.08s   \n",
      "\n",
      "2018-10-18 17:41:02 (7.15 MB/s) - ‘fertility.csv’ saved [601467/601467]\n",
      "\n",
      "--2018-10-18 17:41:03--  https://raw.githubusercontent.com/bushschool/data-science/master/project/project1/life_expectancy.csv\n",
      "Resolving raw.githubusercontent.com (raw.githubusercontent.com)... 151.101.0.133, 151.101.64.133, 151.101.128.133, ...\n",
      "Connecting to raw.githubusercontent.com (raw.githubusercontent.com)|151.101.0.133|:443... connected.\n",
      "HTTP request sent, awaiting response... 200 OK\n",
      "Length: 624580 (610K) [text/plain]\n",
      "Saving to: ‘life_expectancy.csv’\n",
      "\n",
      "life_expectancy.csv 100%[===================>] 609.94K  --.-KB/s    in 0.08s   \n",
      "\n",
      "2018-10-18 17:41:03 (7.50 MB/s) - ‘life_expectancy.csv’ saved [624580/624580]\n",
      "\n",
      "--2018-10-18 17:41:04--  https://raw.githubusercontent.com/bushschool/data-science/master/project/project1/population.csv\n",
      "Resolving raw.githubusercontent.com (raw.githubusercontent.com)... 151.101.0.133, 151.101.64.133, 151.101.128.133, ...\n",
      "Connecting to raw.githubusercontent.com (raw.githubusercontent.com)|151.101.0.133|:443... connected.\n",
      "HTTP request sent, awaiting response... 200 OK\n",
      "Length: 1461421 (1.4M) [text/plain]\n",
      "Saving to: ‘population.csv’\n",
      "\n",
      "population.csv      100%[===================>]   1.39M  --.-KB/s    in 0.09s   \n",
      "\n",
      "2018-10-18 17:41:04 (14.7 MB/s) - ‘population.csv’ saved [1461421/1461421]\n",
      "\n",
      "--2018-10-18 17:41:05--  https://raw.githubusercontent.com/bushschool/data-science/master/project/project1/poverty.csv\n",
      "Resolving raw.githubusercontent.com (raw.githubusercontent.com)... 151.101.0.133, 151.101.64.133, 151.101.128.133, ...\n",
      "Connecting to raw.githubusercontent.com (raw.githubusercontent.com)|151.101.0.133|:443... connected.\n",
      "HTTP request sent, awaiting response... 200 OK\n",
      "Length: 15495 (15K) [text/plain]\n",
      "Saving to: ‘poverty.csv’\n",
      "\n",
      "poverty.csv         100%[===================>]  15.13K  --.-KB/s    in 0.007s  \n",
      "\n",
      "2018-10-18 17:41:05 (2.21 MB/s) - ‘poverty.csv’ saved [15495/15495]\n",
      "\n"
     ]
    }
   ],
   "source": [
    "!find . -type f -name '*.ok' -delete\n",
    "!find . -type f -name '*.csv' -delete\n",
    "!find . -type f -name '*wget-log*' -delete\n",
    "\n",
    "!wget https://raw.githubusercontent.com/bushschool/data-science/master/project/project1/tests/q1_1.ok\n",
    "!wget https://raw.githubusercontent.com/bushschool/data-science/master/project/project1/tests/q1_11.ok\n",
    "!wget https://raw.githubusercontent.com/bushschool/data-science/master/project/project1/tests/q1_12.ok\n",
    "!wget https://raw.githubusercontent.com/bushschool/data-science/master/project/project1/tests/q1_12_0.ok\n",
    "!wget https://raw.githubusercontent.com/bushschool/data-science/master/project/project1/tests/q1_13.ok\n",
    "!wget https://raw.githubusercontent.com/bushschool/data-science/master/project/project1/tests/q1_14.ok\n",
    "!wget https://raw.githubusercontent.com/bushschool/data-science/master/project/project1/tests/q1_2.ok\n",
    "!wget https://raw.githubusercontent.com/bushschool/data-science/master/project/project1/tests/q1_5.ok\n",
    "!wget https://raw.githubusercontent.com/bushschool/data-science/master/project/project1/tests/q1_7.ok\n",
    "!wget https://raw.githubusercontent.com/bushschool/data-science/master/project/project1/tests/q1_9.ok\n",
    "!wget https://raw.githubusercontent.com/bushschool/data-science/master/project/project1/tests/q2_1.ok\n",
    "!wget https://raw.githubusercontent.com/bushschool/data-science/master/project/project1/tests/q2_2.ok\n",
    "!wget https://raw.githubusercontent.com/bushschool/data-science/master/project/project1/tests/q2_3.ok\n",
    "!wget https://raw.githubusercontent.com/bushschool/data-science/master/project/project1/tests/q2_4.ok\n",
    "!wget https://raw.githubusercontent.com/bushschool/data-science/master/project/project1/tests/q2_5.ok\n",
    "    \n",
    "!wget https://raw.githubusercontent.com/bushschool/data-science/master/project/project1/child_mortality.csv\n",
    "!wget https://raw.githubusercontent.com/bushschool/data-science/master/project/project1/countries.csv\n",
    "!wget https://raw.githubusercontent.com/bushschool/data-science/master/project/project1/fertility.csv\n",
    "!wget https://raw.githubusercontent.com/bushschool/data-science/master/project/project1/life_expectancy.csv\n",
    "!wget https://raw.githubusercontent.com/bushschool/data-science/master/project/project1/population.csv\n",
    "!wget https://raw.githubusercontent.com/bushschool/data-science/master/project/project1/poverty.csv\n",
    "        "
   ]
  },
  {
   "cell_type": "markdown",
   "metadata": {
    "colab_type": "text",
    "deletable": false,
    "editable": false,
    "id": "2hmhau77Nj_Y"
   },
   "source": [
    "## 1. Global Population Growth\n"
   ]
  },
  {
   "cell_type": "markdown",
   "metadata": {
    "colab_type": "text",
    "deletable": false,
    "editable": false,
    "id": "ysmCOe6XNj_a"
   },
   "source": [
    "The global population of humans reached 1 billion around 1800, 3 billion around 1960, and 7 billion around 2011. The potential impact of exponential population growth has concerned scientists, economists, and politicians alike.\n",
    "\n",
    "The UN Population Division estimates that the world population will likely continue to grow throughout the 21st century, but at a slower rate, perhaps reaching 11 billion by 2100. However, the UN does not rule out scenarios of more extreme growth.\n",
    "\n",
    "<a href=\"http://www.pewresearch.org/fact-tank/2015/06/08/scientists-more-worried-than-public-about-worlds-growing-population/ft_15-06-04_popcount/\"> \n",
    " <img src=\"https://raw.githubusercontent.com/bushschool/data-science/master/project/project1/pew_population_projection.png\"/> \n",
    "</a>\n",
    "\n",
    "In this section, we will examine some of the factors that influence population growth and how they are changing around the world.\n",
    "\n",
    "The first table we will consider is the total population of each country over time. Run the cell below."
   ]
  },
  {
   "cell_type": "code",
   "execution_count": 3,
   "metadata": {
    "colab": {
     "base_uri": "https://localhost:8080/",
     "height": 166
    },
    "colab_type": "code",
    "deletable": false,
    "editable": false,
    "id": "E4LbJxeyNj_b",
    "outputId": "b5d5ee03-e128-468d-f571-ae4c40815eb4"
   },
   "outputs": [
    {
     "data": {
      "text/html": [
       "<table border=\"1\" class=\"dataframe\">\n",
       "    <thead>\n",
       "        <tr>\n",
       "            <th>geo</th> <th>time</th> <th>population_total</th>\n",
       "        </tr>\n",
       "    </thead>\n",
       "    <tbody>\n",
       "        <tr>\n",
       "            <td>abw </td> <td>1800</td> <td>19286           </td>\n",
       "        </tr>\n",
       "        <tr>\n",
       "            <td>abw </td> <td>1801</td> <td>19286           </td>\n",
       "        </tr>\n",
       "        <tr>\n",
       "            <td>abw </td> <td>1802</td> <td>19286           </td>\n",
       "        </tr>\n",
       "    </tbody>\n",
       "</table>\n",
       "<p>... (87792 rows omitted)</p>"
      ],
      "text/plain": [
       "<IPython.core.display.HTML object>"
      ]
     },
     "metadata": {},
     "output_type": "display_data"
    }
   ],
   "source": [
    "# The population.csv file can also be found online here:\n",
    "# https://github.com/open-numbers/ddf--gapminder--systema_globalis/raw/master/ddf--datapoints--population_total--by--geo--time.csv\n",
    "# The version in this project was downloaded in February, 2017.\n",
    "population = Table.read_table('population.csv')\n",
    "population.show(3)"
   ]
  },
  {
   "cell_type": "markdown",
   "metadata": {
    "colab_type": "text",
    "deletable": false,
    "editable": false,
    "id": "Y62Sy04TNj_e"
   },
   "source": [
    "### Bangladesh\n",
    "\n",
    "In the `population` table, the `geo` column contains three-letter codes established by the [International Organization for Standardization](https://en.wikipedia.org/wiki/International_Organization_for_Standardization) (ISO) in the [Alpha-3](https://en.wikipedia.org/wiki/ISO_3166-1_alpha-3#Current_codes) standard. We will begin by taking a close look at Bangladesh. Inspect the standard to find the 3-letter code for Bangladesh."
   ]
  },
  {
   "cell_type": "markdown",
   "metadata": {
    "colab_type": "text",
    "deletable": false,
    "editable": false,
    "id": "RjoEX9zkNj_e"
   },
   "source": [
    "**Question 1.** Create a table called `b_pop` that has two columns labeled `time` and `population_total`. The first column should contain the years from 1970 through 2015 (including both 1970 and 2015) and the second should contain the population of Bangladesh in each of those years."
   ]
  },
  {
   "cell_type": "code",
   "execution_count": 4,
   "metadata": {
    "colab": {
     "base_uri": "https://localhost:8080/",
     "height": 377
    },
    "colab_type": "code",
    "deletable": false,
    "id": "oC6vUzvdNj_g",
    "outputId": "e79c55a4-d196-4fa3-a04b-00df3613e387"
   },
   "outputs": [
    {
     "data": {
      "text/html": [
       "<table border=\"1\" class=\"dataframe\">\n",
       "    <thead>\n",
       "        <tr>\n",
       "            <th>time</th> <th>population_total</th>\n",
       "        </tr>\n",
       "    </thead>\n",
       "    <tbody>\n",
       "        <tr>\n",
       "            <td>1970</td> <td>65048701        </td>\n",
       "        </tr>\n",
       "        <tr>\n",
       "            <td>1971</td> <td>66417450        </td>\n",
       "        </tr>\n",
       "        <tr>\n",
       "            <td>1972</td> <td>67578486        </td>\n",
       "        </tr>\n",
       "        <tr>\n",
       "            <td>1973</td> <td>68658472        </td>\n",
       "        </tr>\n",
       "        <tr>\n",
       "            <td>1974</td> <td>69837960        </td>\n",
       "        </tr>\n",
       "        <tr>\n",
       "            <td>1975</td> <td>71247153        </td>\n",
       "        </tr>\n",
       "        <tr>\n",
       "            <td>1976</td> <td>72930206        </td>\n",
       "        </tr>\n",
       "        <tr>\n",
       "            <td>1977</td> <td>74848466        </td>\n",
       "        </tr>\n",
       "        <tr>\n",
       "            <td>1978</td> <td>76948378        </td>\n",
       "        </tr>\n",
       "        <tr>\n",
       "            <td>1979</td> <td>79141947        </td>\n",
       "        </tr>\n",
       "    </tbody>\n",
       "</table>\n",
       "<p>... (36 rows omitted)</p>"
      ],
      "text/plain": [
       "time | population_total\n",
       "1970 | 65048701\n",
       "1971 | 66417450\n",
       "1972 | 67578486\n",
       "1973 | 68658472\n",
       "1974 | 69837960\n",
       "1975 | 71247153\n",
       "1976 | 72930206\n",
       "1977 | 74848466\n",
       "1978 | 76948378\n",
       "1979 | 79141947\n",
       "... (36 rows omitted)"
      ]
     },
     "execution_count": 4,
     "metadata": {},
     "output_type": "execute_result"
    }
   ],
   "source": [
    "b_pop = population.where(\"geo\",\"bgd\").select(\"time\",\"population_total\").where(\"time\",are.between_or_equal_to(1970, 2015))\n",
    "b_pop"
   ]
  },
  {
   "cell_type": "code",
   "execution_count": 9,
   "metadata": {
    "colab": {
     "base_uri": "https://localhost:8080/",
     "height": 35
    },
    "colab_type": "code",
    "deletable": false,
    "editable": false,
    "id": "-GOL2ykdNj_m",
    "outputId": "cc34cf39-24bd-4caf-8e43-d7ae02fc0db5",
    "scrolled": false
   },
   "outputs": [
    {
     "data": {
      "text/html": [
       "<pre>q1_1.ok: All tests passed!</pre>"
      ],
      "text/plain": [
       "<okgrade.result.TestResult at 0x7fe981de62b0>"
      ]
     },
     "execution_count": 9,
     "metadata": {
      "tags": []
     },
     "output_type": "execute_result"
    }
   ],
   "source": [
    "grade('q1_1.ok')"
   ]
  },
  {
   "cell_type": "markdown",
   "metadata": {
    "colab_type": "text",
    "deletable": false,
    "editable": false,
    "id": "mOJPjde2Nj_r"
   },
   "source": [
    "Run the following cell to create a table called `b_five` that has the population of Bangladesh every five years. At a glance, it appears that the population of Bangladesh has been growing quickly indeed!"
   ]
  },
  {
   "cell_type": "code",
   "execution_count": 5,
   "metadata": {
    "colab": {
     "base_uri": "https://localhost:8080/",
     "height": 348
    },
    "colab_type": "code",
    "deletable": false,
    "editable": false,
    "id": "E3SSQd7ONj_s",
    "outputId": "f1d964fc-4192-4b80-913f-397c0a9e22d8"
   },
   "outputs": [
    {
     "data": {
      "text/html": [
       "<table border=\"1\" class=\"dataframe\">\n",
       "    <thead>\n",
       "        <tr>\n",
       "            <th>time</th> <th>population_total</th>\n",
       "        </tr>\n",
       "    </thead>\n",
       "    <tbody>\n",
       "        <tr>\n",
       "            <td>1970</td> <td>65,048,701      </td>\n",
       "        </tr>\n",
       "        <tr>\n",
       "            <td>1975</td> <td>71,247,153      </td>\n",
       "        </tr>\n",
       "        <tr>\n",
       "            <td>1980</td> <td>81,364,176      </td>\n",
       "        </tr>\n",
       "        <tr>\n",
       "            <td>1985</td> <td>93,015,182      </td>\n",
       "        </tr>\n",
       "        <tr>\n",
       "            <td>1990</td> <td>105,983,136     </td>\n",
       "        </tr>\n",
       "        <tr>\n",
       "            <td>1995</td> <td>118,427,768     </td>\n",
       "        </tr>\n",
       "        <tr>\n",
       "            <td>2000</td> <td>131,280,739     </td>\n",
       "        </tr>\n",
       "        <tr>\n",
       "            <td>2005</td> <td>142,929,979     </td>\n",
       "        </tr>\n",
       "        <tr>\n",
       "            <td>2010</td> <td>151,616,777     </td>\n",
       "        </tr>\n",
       "        <tr>\n",
       "            <td>2015</td> <td>160,995,642     </td>\n",
       "        </tr>\n",
       "    </tbody>\n",
       "</table>"
      ],
      "text/plain": [
       "time | population_total\n",
       "1970 | 65,048,701\n",
       "1975 | 71,247,153\n",
       "1980 | 81,364,176\n",
       "1985 | 93,015,182\n",
       "1990 | 105,983,136\n",
       "1995 | 118,427,768\n",
       "2000 | 131,280,739\n",
       "2005 | 142,929,979\n",
       "2010 | 151,616,777\n",
       "2015 | 160,995,642"
      ]
     },
     "execution_count": 5,
     "metadata": {},
     "output_type": "execute_result"
    }
   ],
   "source": [
    "b_pop.set_format('population_total', NumberFormatter)\n",
    "\n",
    "fives = np.arange(1970, 2016, 5) # 1970, 1975, 1980, ...\n",
    "b_five = b_pop.sort('time').where('time', are.contained_in(fives))\n",
    "b_five"
   ]
  },
  {
   "cell_type": "markdown",
   "metadata": {
    "colab_type": "text",
    "deletable": false,
    "editable": false,
    "id": "HNoFXR4TNj_w"
   },
   "source": [
    "**Question 2.** Assign `b_1970_through_2010` to a table that has the same columns as `b_five` and has one row for every five years from 1970 through 2010 (but not 2015). Then, use that table to assign `initial` to an array that contains the population for every five year interval from 1970 to 2010. Finally, assign `changed` to an array that contains the population for every five year interval from 1975 to 2015.\n",
    "\n",
    "*Hint*: You may find the `exclude` method to be helpful ([Docs](http://data8.org/datascience/_autosummary/datascience.tables.Table.exclude.html))."
   ]
  },
  {
   "cell_type": "code",
   "execution_count": 0,
   "metadata": {
    "colab": {},
    "colab_type": "code",
    "deletable": false,
    "id": "QpDCOtzCNj_y"
   },
   "outputs": [],
   "source": [
    "b_1970_through_2010 = b_five.exclude(b_five.num_rows-1)\n",
    "initial = b_1970_through_2010.column(\"population_total\")\n",
    "changed = b_five.exclude(0).column(\"population_total\")"
   ]
  },
  {
   "cell_type": "markdown",
   "metadata": {
    "colab_type": "text",
    "deletable": false,
    "editable": false,
    "id": "hg7F1XABNj_3"
   },
   "source": [
    "We have provided the code below that uses `b_1970_through_2010`, `initial`, and `changed` in order to add a column to the table called `annual_growth`. Don't worry about the calculation of the growth rates; run the test below to test your solution.\n",
    "\n",
    "If you are interested in how we came up with the formula for growth rates, consult the [growth rates](https://www.inferentialthinking.com/chapters/03/2/1/growth) section of the textbook."
   ]
  },
  {
   "cell_type": "code",
   "execution_count": 12,
   "metadata": {
    "colab": {
     "base_uri": "https://localhost:8080/",
     "height": 318
    },
    "colab_type": "code",
    "deletable": false,
    "editable": false,
    "id": "pxM-PW7zNj_4",
    "outputId": "7ca1a9fa-84e4-4e06-b689-c92ee0ea8dba"
   },
   "outputs": [
    {
     "data": {
      "text/html": [
       "<table border=\"1\" class=\"dataframe\">\n",
       "    <thead>\n",
       "        <tr>\n",
       "            <th>time</th> <th>population_total</th> <th>annual_growth</th>\n",
       "        </tr>\n",
       "    </thead>\n",
       "    <tbody>\n",
       "        <tr>\n",
       "            <td>1970</td> <td>65,048,701      </td> <td>1.84%        </td>\n",
       "        </tr>\n",
       "        <tr>\n",
       "            <td>1975</td> <td>71,247,153      </td> <td>2.69%        </td>\n",
       "        </tr>\n",
       "        <tr>\n",
       "            <td>1980</td> <td>81,364,176      </td> <td>2.71%        </td>\n",
       "        </tr>\n",
       "        <tr>\n",
       "            <td>1985</td> <td>93,015,182      </td> <td>2.64%        </td>\n",
       "        </tr>\n",
       "        <tr>\n",
       "            <td>1990</td> <td>105,983,136     </td> <td>2.25%        </td>\n",
       "        </tr>\n",
       "        <tr>\n",
       "            <td>1995</td> <td>118,427,768     </td> <td>2.08%        </td>\n",
       "        </tr>\n",
       "        <tr>\n",
       "            <td>2000</td> <td>131,280,739     </td> <td>1.71%        </td>\n",
       "        </tr>\n",
       "        <tr>\n",
       "            <td>2005</td> <td>142,929,979     </td> <td>1.19%        </td>\n",
       "        </tr>\n",
       "        <tr>\n",
       "            <td>2010</td> <td>151,616,777     </td> <td>1.21%        </td>\n",
       "        </tr>\n",
       "    </tbody>\n",
       "</table>"
      ],
      "text/plain": [
       "time | population_total | annual_growth\n",
       "1970 | 65,048,701       | 1.84%\n",
       "1975 | 71,247,153       | 2.69%\n",
       "1980 | 81,364,176       | 2.71%\n",
       "1985 | 93,015,182       | 2.64%\n",
       "1990 | 105,983,136      | 2.25%\n",
       "1995 | 118,427,768      | 2.08%\n",
       "2000 | 131,280,739      | 1.71%\n",
       "2005 | 142,929,979      | 1.19%\n",
       "2010 | 151,616,777      | 1.21%"
      ]
     },
     "execution_count": 12,
     "metadata": {
      "tags": []
     },
     "output_type": "execute_result"
    }
   ],
   "source": [
    "b_five_growth = b_1970_through_2010.with_column('annual_growth', (changed/initial)**0.2-1)\n",
    "b_five_growth.set_format('annual_growth', PercentFormatter)"
   ]
  },
  {
   "cell_type": "code",
   "execution_count": 13,
   "metadata": {
    "colab": {
     "base_uri": "https://localhost:8080/",
     "height": 35
    },
    "colab_type": "code",
    "deletable": false,
    "editable": false,
    "id": "kwpXZEtbNj_6",
    "outputId": "045bb8f6-8525-4ff6-fdf8-63be787eb957"
   },
   "outputs": [
    {
     "data": {
      "text/html": [
       "<pre>q1_2.ok: All tests passed!</pre>"
      ],
      "text/plain": [
       "<okgrade.result.TestResult at 0x7fe99215b7b8>"
      ]
     },
     "execution_count": 13,
     "metadata": {
      "tags": []
     },
     "output_type": "execute_result"
    }
   ],
   "source": [
    "grade('q1_2.ok')"
   ]
  },
  {
   "cell_type": "markdown",
   "metadata": {
    "colab_type": "text",
    "deletable": false,
    "editable": false,
    "id": "zu1bShYoNj_-"
   },
   "source": [
    "While the population has grown every five years since 1970, the annual growth rate decreased dramatically from 1985 to 2005. Let's look at some other information in order to develop a possible explanation. Run the next cell to load three additional tables of measurements about countries over time."
   ]
  },
  {
   "cell_type": "code",
   "execution_count": 7,
   "metadata": {
    "colab": {},
    "colab_type": "code",
    "deletable": false,
    "editable": false,
    "id": "H-9Rim0zNj__"
   },
   "outputs": [],
   "source": [
    "life_expectancy = Table.read_table('life_expectancy.csv')\n",
    "child_mortality = Table.read_table('child_mortality.csv').relabeled(2, 'child_mortality_under_5_per_1000_born')\n",
    "fertility = Table.read_table('fertility.csv')"
   ]
  },
  {
   "cell_type": "markdown",
   "metadata": {
    "colab_type": "text",
    "deletable": false,
    "editable": false,
    "id": "FT0LWuwjNkAC"
   },
   "source": [
    "The `life_expectancy` table contains a statistic that is often used to measure how long people live, called *life expectancy at birth*. This number, for a country in a given year, [does not measure how long babies born in that year are expected to live](http://blogs.worldbank.org/opendata/what-does-life-expectancy-birth-really-mean). Instead, it measures how long someone would live, on average, if the *mortality conditions* in that year persisted throughout their lifetime. These \"mortality conditions\" describe what fraction of people at each age survived the year. So, it is a way of measuring the proportion of people that are staying alive, aggregated over different age groups in the population."
   ]
  },
  {
   "cell_type": "markdown",
   "metadata": {
    "colab_type": "text",
    "deletable": false,
    "editable": false,
    "id": "Xe0Oc9zvNkAD"
   },
   "source": [
    "**Question 3.** Perhaps population is growing more slowly because people aren't living as long. Use the `life_expectancy` table to draw a line graph with the years 1970 and later on the horizontal axis that shows how the *life expectancy at birth* has changed in Bangladesh."
   ]
  },
  {
   "cell_type": "code",
   "execution_count": 105,
   "metadata": {
    "colab": {
     "base_uri": "https://localhost:8080/",
     "height": 162
    },
    "colab_type": "code",
    "id": "nmrbT-eVHw4b",
    "outputId": "a82461ce-188a-4580-b5c7-7bf2ca42a53b"
   },
   "outputs": [
    {
     "ename": "NameError",
     "evalue": "ignored",
     "output_type": "error",
     "traceback": [
      "\u001b[0;31m---------------------------------------------------------------------------\u001b[0m",
      "\u001b[0;31mNameError\u001b[0m                                 Traceback (most recent call last)",
      "\u001b[0;32m<ipython-input-105-cd6a7f0fca22>\u001b[0m in \u001b[0;36m<module>\u001b[0;34m()\u001b[0m\n\u001b[0;32m----> 1\u001b[0;31m \u001b[0mlife_expectancy\u001b[0m\u001b[0;34m\u001b[0m\u001b[0m\n\u001b[0m",
      "\u001b[0;31mNameError\u001b[0m: name 'life_expectancy' is not defined"
     ]
    }
   ],
   "source": [
    "life_expectancy"
   ]
  },
  {
   "cell_type": "code",
   "execution_count": 20,
   "metadata": {
    "colab": {
     "base_uri": "https://localhost:8080/",
     "height": 300
    },
    "colab_type": "code",
    "deletable": false,
    "id": "dsbd6j1uNkAE",
    "manual_grade": true,
    "manual_problem_id": "global_pop_3",
    "outputId": "352852b2-f55d-4f7d-f270-daa67cdf0ec2"
   },
   "outputs": [
    {
     "data": {
      "image/png": "[encoded data removed]",
      "text/plain": [
       "<matplotlib.figure.Figure at 0x7fe96f776470>"
      ]
     },
     "metadata": {
      "tags": []
     },
     "output_type": "display_data"
    }
   ],
   "source": [
    "life_expectancy_bgd = life_expectancy.where(\"geo\",\"bgd\").select(\"time\",\"life_expectancy_years\").where(\"time\",are.above_or_equal_to(1970))\n",
    "life_expectancy_bgd.plot(\"time\",\"life_expectancy_years\")"
   ]
  },
  {
   "cell_type": "markdown",
   "metadata": {
    "colab_type": "text",
    "deletable": false,
    "editable": false,
    "id": "oLBlrSnmNkAH"
   },
   "source": [
    "**Question 4.** Assuming everything else stays the same, does the graph above help directly explain why the population growth rate decreased from 1985 to 2010 in Bangladesh? Why or why not? What happened in Bangladesh in 1991, and does that event explain the change in population growth rate?"
   ]
  },
  {
   "cell_type": "markdown",
   "metadata": {
    "colab_type": "text",
    "collapsed": true,
    "deletable": false,
    "id": "526QXHfoNkAK",
    "manual_grade": true,
    "manual_problem_id": "global_pop_4"
   },
   "source": [
    "A cyclone killed ~138,000 people in 1991.\n",
    "\n",
    "All of those people killed did not have chilldren."
   ]
  },
  {
   "cell_type": "markdown",
   "metadata": {
    "colab_type": "text",
    "deletable": false,
    "editable": false,
    "id": "3Zt6B86MNkAN"
   },
   "source": [
    "The `fertility` table contains a statistic that is often used to measure how many babies are being born, the *total fertility rate*. This number describes the [number of children a woman would have in her lifetime](https://www.measureevaluation.org/prh/rh_indicators/specific/fertility/total-fertility-rate), on average, if the current rates of birth by age of the mother persisted throughout her child bearing years, assuming she survived through age 49. "
   ]
  },
  {
   "cell_type": "markdown",
   "metadata": {
    "colab_type": "text",
    "deletable": false,
    "editable": false,
    "id": "oe0LBvp8NkAO"
   },
   "source": [
    "**Question 5.** Write a function `fertility_over_time` that takes the Alpha-3 code of a `country` and a `start` year. It returns a two-column table with labels \"`Year`\" and \"`Children per woman`\" that can be used to generate a line chart of the country's fertility rate each year, starting at the `start` year. The plot should include the `start` year and all later years that appear in the `fertility` table. \n",
    "\n",
    "Then, in the next cell, call your `fertility_over_time` function on the Alpha-3 code for Bangladesh and the year 1970 in order to plot how Bangladesh's fertility rate has changed since 1970. Note that the function `fertility_over_time` should not return the plot itself **The expression that draws the line plot is provided for you; please don't change it.**"
   ]
  },
  {
   "cell_type": "code",
   "execution_count": 21,
   "metadata": {
    "colab": {
     "base_uri": "https://localhost:8080/",
     "height": 377
    },
    "colab_type": "code",
    "id": "cXL29Kpran8E",
    "outputId": "8fb0ab9e-c80d-4f1c-d582-a01fc96c7fdc"
   },
   "outputs": [
    {
     "data": {
      "text/html": [
       "<table border=\"1\" class=\"dataframe\">\n",
       "    <thead>\n",
       "        <tr>\n",
       "            <th>geo</th> <th>time</th> <th>children_per_woman_total_fertility</th>\n",
       "        </tr>\n",
       "    </thead>\n",
       "    <tbody>\n",
       "        <tr>\n",
       "            <td>afg </td> <td>1800</td> <td>7                                 </td>\n",
       "        </tr>\n",
       "        <tr>\n",
       "            <td>afg </td> <td>1801</td> <td>7                                 </td>\n",
       "        </tr>\n",
       "        <tr>\n",
       "            <td>afg </td> <td>1802</td> <td>7                                 </td>\n",
       "        </tr>\n",
       "        <tr>\n",
       "            <td>afg </td> <td>1803</td> <td>7                                 </td>\n",
       "        </tr>\n",
       "        <tr>\n",
       "            <td>afg </td> <td>1804</td> <td>7                                 </td>\n",
       "        </tr>\n",
       "        <tr>\n",
       "            <td>afg </td> <td>1805</td> <td>7                                 </td>\n",
       "        </tr>\n",
       "        <tr>\n",
       "            <td>afg </td> <td>1806</td> <td>7                                 </td>\n",
       "        </tr>\n",
       "        <tr>\n",
       "            <td>afg </td> <td>1807</td> <td>7                                 </td>\n",
       "        </tr>\n",
       "        <tr>\n",
       "            <td>afg </td> <td>1808</td> <td>7                                 </td>\n",
       "        </tr>\n",
       "        <tr>\n",
       "            <td>afg </td> <td>1809</td> <td>7                                 </td>\n",
       "        </tr>\n",
       "    </tbody>\n",
       "</table>\n",
       "<p>... (43402 rows omitted)</p>"
      ],
      "text/plain": [
       "geo  | time | children_per_woman_total_fertility\n",
       "afg  | 1800 | 7\n",
       "afg  | 1801 | 7\n",
       "afg  | 1802 | 7\n",
       "afg  | 1803 | 7\n",
       "afg  | 1804 | 7\n",
       "afg  | 1805 | 7\n",
       "afg  | 1806 | 7\n",
       "afg  | 1807 | 7\n",
       "afg  | 1808 | 7\n",
       "afg  | 1809 | 7\n",
       "... (43402 rows omitted)"
      ]
     },
     "execution_count": 21,
     "metadata": {
      "tags": []
     },
     "output_type": "execute_result"
    }
   ],
   "source": [
    "fertility"
   ]
  },
  {
   "cell_type": "code",
   "execution_count": 8,
   "metadata": {
    "colab": {},
    "colab_type": "code",
    "deletable": false,
    "id": "TP9UP_N2NkAS"
   },
   "outputs": [],
   "source": [
    "def fertility_over_time(country, start):\n",
    "    \"\"\"Create a two-column table that describes a country's total fertility rate each year.\"\"\"\n",
    "    country_fertility = fertility.where(\"geo\",country).select(\"time\",\"children_per_woman_total_fertility\")\n",
    "    country_fertility = country_fertility.relabeled('time', 'Year')\n",
    "    country_fertility = country_fertility.relabeled('children_per_woman_total_fertility', 'Children per woman')\n",
    "    country_fertility_after_start = country_fertility.where(\"Year\", are.above_or_equal_to(start))\n",
    "    return country_fertility_after_start"
   ]
  },
  {
   "cell_type": "code",
   "execution_count": 23,
   "metadata": {
    "colab": {
     "base_uri": "https://localhost:8080/",
     "height": 300
    },
    "colab_type": "code",
    "deletable": false,
    "id": "0mLk4s6NNkAV",
    "outputId": "943a4ed8-96bf-41f7-9638-fcf1cfa3df62"
   },
   "outputs": [
    {
     "data": {
      "image/png": "[encoded data removed]",
      "text/plain": [
       "<matplotlib.figure.Figure at 0x7fe96f3070f0>"
      ]
     },
     "metadata": {
      "tags": []
     },
     "output_type": "display_data"
    }
   ],
   "source": [
    "bangladesh_code = \"bgd\"\n",
    "fertility_over_time(bangladesh_code, 1970).plot(0, 1) # You should *not* change this line."
   ]
  },
  {
   "cell_type": "code",
   "execution_count": 24,
   "metadata": {
    "colab": {
     "base_uri": "https://localhost:8080/",
     "height": 35
    },
    "colab_type": "code",
    "deletable": false,
    "editable": false,
    "id": "Q3NO2bWgNkAa",
    "outputId": "35c7cb78-8ad8-4361-fae2-7dbb9e65e4af"
   },
   "outputs": [
    {
     "data": {
      "text/html": [
       "<pre>q1_5.ok: All tests passed!</pre>"
      ],
      "text/plain": [
       "<okgrade.result.TestResult at 0x7fe96f7ce940>"
      ]
     },
     "execution_count": 24,
     "metadata": {
      "tags": []
     },
     "output_type": "execute_result"
    }
   ],
   "source": [
    "grade('q1_5.ok')"
   ]
  },
  {
   "cell_type": "markdown",
   "metadata": {
    "colab_type": "text",
    "deletable": false,
    "editable": false,
    "id": "49vXYwqlNkAe"
   },
   "source": [
    "**Question 6.** Assuming everything else stays the same, does the graph above help directly explain why the population growth rate decreased from 1985 to 2010 in Bangladesh? Why or why not?"
   ]
  },
  {
   "cell_type": "markdown",
   "metadata": {
    "colab_type": "text",
    "deletable": false,
    "id": "osyA9W9yNkAf",
    "manual_grade": true,
    "manual_problem_id": "global_pop_6"
   },
   "source": [
    "Yes, there is a steep decline of children per women from 1985 to 2010"
   ]
  },
  {
   "cell_type": "markdown",
   "metadata": {
    "colab_type": "text",
    "deletable": false,
    "editable": false,
    "id": "vNGnichDNkAi"
   },
   "source": [
    "It has been observed that lower fertility rates are often associated with lower child mortality rates. The link has been attributed to family planning: if parents can expect that their children will all survive into adulthood, then they will choose to have fewer children. We can see if this association is evident in Bangladesh by plotting the relationship between total fertility rate and [child mortality rate per 1000 children](https://en.wikipedia.org/wiki/Child_mortality)."
   ]
  },
  {
   "cell_type": "markdown",
   "metadata": {
    "colab_type": "text",
    "deletable": false,
    "editable": false,
    "id": "Du1AKMXUNkAo"
   },
   "source": [
    "**Question 7.** Using both the `fertility` and `child_mortality` tables, draw a scatter diagram with one point for each year, starting with 1970, that has Bangladesh's total fertility on the horizontal axis and its child mortality on the vertical axis. \n",
    "\n",
    "**The expression that draws the scatter diagram is provided for you; please don't change it.** Instead, create a table called `post_1969_fertility_and_child_mortality` with the appropriate column labels and data in order to generate the chart correctly. Use the label \"`Children per woman`\" to describe total fertility and the label \"`Child deaths per 1000 born`\" to describe child mortality."
   ]
  },
  {
   "cell_type": "code",
   "execution_count": 9,
   "metadata": {
    "colab": {
     "base_uri": "https://localhost:8080/",
     "height": 35
    },
    "colab_type": "code",
    "id": "c_tx99nDdRIc",
    "outputId": "59df47f5-8831-44e9-f2bb-b29ed9655608"
   },
   "outputs": [
    {
     "data": {
      "text/plain": [
       "array([468.6 , 468.6 , 468.6 , ...,  12.08,  11.67,  11.33])"
      ]
     },
     "execution_count": 9,
     "metadata": {},
     "output_type": "execute_result"
    }
   ],
   "source": [
    "def mortality_over_time(country, start):\n",
    "    \"\"\"Create a two-column table that describes a country's child mortality rate each year.\"\"\"\n",
    "    country_mortality = child_mortality.where(\"geo\",country).select(\"time\",\"child_mortality_under_5_per_1000_born\")\n",
    "    country_mortality = country_mortality.relabeled('time', 'Year')\n",
    "    country_mortality = country_mortality.relabeled('child_mortality_under_5_per_1000_born', 'Child deaths per 1000 born')\n",
    "    country_mortality_after_start = country_mortality.where(\"Year\", are.above_or_equal_to(start))\n",
    "    return country_mortality_after_start\n",
    "\n",
    "child_mortality.column(\"child_mortality_under_5_per_1000_born\")\n"
   ]
  },
  {
   "cell_type": "markdown",
   "metadata": {
    "colab_type": "text",
    "id": "Wodw25u4eyfx"
   },
   "source": []
  },
  {
   "cell_type": "code",
   "execution_count": 10,
   "metadata": {
    "colab": {
     "base_uri": "https://localhost:8080/",
     "height": 359
    },
    "colab_type": "code",
    "deletable": false,
    "id": "Rs9yyLRfNkAp",
    "outputId": "e341212f-74c6-4c13-8b54-7f20801c84cc"
   },
   "outputs": [
    {
     "data": {
      "image/png": "[encoded data removed]",
      "text/plain": [
       "<matplotlib.figure.Figure at 0x1a0fe7ba20>"
      ]
     },
     "metadata": {},
     "output_type": "display_data"
    }
   ],
   "source": [
    "bgd_fertility = fertility_over_time(\"bgd\",1970)\n",
    "bgd_child_mortality = mortality_over_time(\"bgd\",1970)\n",
    "#fertility_and_child_mortality = \n",
    "post_1969_fertility_and_child_mortality = Table().with_columns(\"Children per woman\", bgd_fertility.column(\"Children per woman\"),\n",
    "                                                               'Child deaths per 1000 born', bgd_child_mortality.column('Child deaths per 1000 born'))\n",
    "post_1969_fertility_and_child_mortality.scatter('Children per woman', 'Child deaths per 1000 born') # You should *not* change this line."
   ]
  },
  {
   "cell_type": "code",
   "execution_count": 43,
   "metadata": {
    "colab": {
     "base_uri": "https://localhost:8080/",
     "height": 35
    },
    "colab_type": "code",
    "deletable": false,
    "editable": false,
    "id": "Bp4-DDHINkAs",
    "outputId": "447bf587-905e-4249-ad2c-354539acf625"
   },
   "outputs": [
    {
     "data": {
      "text/html": [
       "<pre>q1_7.ok: All tests passed!</pre>"
      ],
      "text/plain": [
       "<okgrade.result.TestResult at 0x7fe96c9b75f8>"
      ]
     },
     "execution_count": 43,
     "metadata": {
      "tags": []
     },
     "output_type": "execute_result"
    }
   ],
   "source": [
    "grade('q1_7.ok')"
   ]
  },
  {
   "cell_type": "markdown",
   "metadata": {
    "colab_type": "text",
    "deletable": false,
    "editable": false,
    "id": "V01euEQjNkAx"
   },
   "source": [
    "**Question 8.** In one or two sentences, describe the association (if any) that is illustrated by this scatter diagram. Does the diagram show that reduced child mortality causes parents to choose to have fewer children?"
   ]
  },
  {
   "cell_type": "markdown",
   "metadata": {
    "colab_type": "text",
    "deletable": false,
    "id": "mtlUU2jbNkA9",
    "manual_grade": true,
    "manual_problem_id": "global_pop_8"
   },
   "source": [
    "Yes, the diagram shows that reduced child mortality causes parents to choose to have fewer children.\n"
   ]
  },
  {
   "cell_type": "markdown",
   "metadata": {
    "colab_type": "text",
    "deletable": false,
    "editable": false,
    "id": "g6csb5SJNkA-"
   },
   "source": [
    "### The World\n",
    "\n",
    "The change observed in Bangladesh since 1970 can also be observed in many other developing countries: health services improve, life expectancy increases, and child mortality decreases. At the same time, the fertility rate often plummets, and so the population growth rate decreases despite increasing longevity."
   ]
  },
  {
   "cell_type": "markdown",
   "metadata": {
    "colab_type": "text",
    "deletable": false,
    "editable": false,
    "id": "JUanbnz8NkA_"
   },
   "source": [
    "Run the cell below to generate two overlaid histograms, one for 1960 and one for 2010, that show the distributions of total fertility rates for these two years among all 201 countries in the `fertility` table."
   ]
  },
  {
   "cell_type": "code",
   "execution_count": 11,
   "metadata": {
    "colab": {
     "base_uri": "https://localhost:8080/",
     "height": 507
    },
    "colab_type": "code",
    "deletable": false,
    "editable": false,
    "id": "uND0R1TGNkBA",
    "outputId": "d80c83ac-d7aa-4201-d285-56899e101534"
   },
   "outputs": [
    {
     "name": "stdout",
     "output_type": "stream",
     "text": [
      "geo  | time | children_per_woman_total_fertility\n",
      "afg  | 1800 | 7\n",
      "afg  | 1801 | 7\n",
      "afg  | 1802 | 7\n",
      "afg  | 1803 | 7\n",
      "afg  | 1804 | 7\n",
      "afg  | 1805 | 7\n",
      "afg  | 1806 | 7\n",
      "afg  | 1807 | 7\n",
      "afg  | 1808 | 7\n",
      "afg  | 1809 | 7\n",
      "... (43402 rows omitted)\n"
     ]
    },
    {
     "data": {
      "image/png": "[encoded data removed]",
      "text/plain": [
       "<matplotlib.figure.Figure at 0x1a0fe7b7f0>"
      ]
     },
     "metadata": {},
     "output_type": "display_data"
    }
   ],
   "source": [
    "Table().with_columns(\n",
    "    '1960', fertility.where('time', 1960).column(2),\n",
    "    '2010', fertility.where('time', 2010).column(2)\n",
    ").hist(bins=np.arange(0, 10, 0.5), unit='child',normed = False)\n",
    "_ = plots.xlabel('Children per woman')\n",
    "_ = plots.xticks(np.arange(10))\n",
    "\n",
    "print(fertility)"
   ]
  },
  {
   "cell_type": "markdown",
   "metadata": {
    "colab_type": "text",
    "deletable": false,
    "editable": false,
    "id": "OG-LY1PANkBD"
   },
   "source": [
    "**Question 9.** Assign `fertility_statements` to a list of the numbers of each statement below that can be correctly inferred from these histograms.\n",
    "1. About the same number of countries had a fertility rate between 3.5 and 4.5 in both 1960 and 2010.\n",
    "1. In 2010, about 40% of countries had a fertility rate between 1.5 and 2 (inclusive).\n",
    "1. In 1960, less than 20% of countries had a fertility rate below 3.\n",
    "1. More countries had a fertility rate above 3 in 1960 than in 2010.\n",
    "1. At least half of countries had a fertility rate between 5 and 8 (inclusive) in 1960.\n",
    "1. At least half of countries had a fertility rate below 3 in 2010."
   ]
  },
  {
   "cell_type": "code",
   "execution_count": 0,
   "metadata": {
    "colab": {},
    "colab_type": "code",
    "deletable": false,
    "id": "pvlAVdabNkBF"
   },
   "outputs": [],
   "source": [
    "fertility_statements = [1, 3, 4, 5, 6]"
   ]
  },
  {
   "cell_type": "code",
   "execution_count": 48,
   "metadata": {
    "colab": {
     "base_uri": "https://localhost:8080/",
     "height": 35
    },
    "colab_type": "code",
    "deletable": false,
    "editable": false,
    "id": "t4DI1GCuNkBJ",
    "outputId": "c869c08b-820a-4c99-c401-ea9b5a66c6a7"
   },
   "outputs": [
    {
     "data": {
      "text/html": [
       "<pre>q1_9.ok: All tests passed!</pre>"
      ],
      "text/plain": [
       "<okgrade.result.TestResult at 0x7fe96c9f09e8>"
      ]
     },
     "execution_count": 48,
     "metadata": {
      "tags": []
     },
     "output_type": "execute_result"
    }
   ],
   "source": [
    "grade('q1_9.ok')"
   ]
  },
  {
   "cell_type": "markdown",
   "metadata": {
    "colab_type": "text",
    "deletable": false,
    "editable": false,
    "id": "OYbhDZzBNkBM"
   },
   "source": [
    "**Question 10.** Draw a line plot of the world population from 1800 through 2005. The world population is the sum of all the country's populations. \n"
   ]
  },
  {
   "cell_type": "code",
   "execution_count": 12,
   "metadata": {
    "colab": {
     "base_uri": "https://localhost:8080/",
     "height": 311
    },
    "colab_type": "code",
    "deletable": false,
    "id": "RBrhry-nNkBN",
    "manual_grade": true,
    "manual_problem_id": "global_pop_10",
    "outputId": "c1afa2e4-bb45-4242-c691-91c646540720"
   },
   "outputs": [
    {
     "data": {
      "image/png": "[encoded data removed]",
      "text/plain": [
       "<matplotlib.figure.Figure at 0x1a0f87b630>"
      ]
     },
     "metadata": {},
     "output_type": "display_data"
    }
   ],
   "source": [
    "population_limited = population.select(\"time\",\"population_total\").where(\"time\",are.between_or_equal_to(1800,2005))\n",
    "population_sums = population_limited.group(\"time\",sum)\n",
    "population_sums.plot(\"time\", \"population_total sum\")\n"
   ]
  },
  {
   "cell_type": "markdown",
   "metadata": {
    "colab_type": "text",
    "deletable": false,
    "editable": false,
    "id": "KEG2dGITNkBR"
   },
   "source": [
    "**Question 11.** Create a function `stats_for_year` that takes a `year` and returns a table of statistics. The table it returns should have four columns: `geo`, `population_total`, `children_per_woman_total_fertility`, and `child_mortality_under_5_per_1000_born`. Each row should contain one Alpha-3 country code and three statistics: population, fertility rate, and child mortality for that `year` from the `population`, `fertility` and `child_mortality` tables. Only include rows for which all three statistics are available for the country and year.\n",
    "\n",
    "In addition, restrict the result to country codes that appears in `big_50`, an array of the 50 most populous countries in 2010. This restriction will speed up computations later in the project.\n",
    "\n",
    "*Hint*: The tests for this question are quite comprehensive, so if you pass the tests, your function is probably correct. However, without calling your function yourself and looking at the output, it will be very difficult to understand any problems you have, so try your best to write the function correctly and check that it works before you rely on the `ok` tests to confirm your work."
   ]
  },
  {
   "cell_type": "code",
   "execution_count": 13,
   "metadata": {
    "colab": {
     "base_uri": "https://localhost:8080/",
     "height": 639
    },
    "colab_type": "code",
    "id": "Vzp3B1Cgr6AK",
    "outputId": "d4d99732-9f83-4d52-c0d6-313d8cb77c2e"
   },
   "outputs": [
    {
     "name": "stdout",
     "output_type": "stream",
     "text": [
      "geo  | time | children_per_woman_total_fertility\n",
      "afg  | 1800 | 7\n",
      "afg  | 1801 | 7\n",
      "afg  | 1802 | 7\n",
      "afg  | 1803 | 7\n",
      "afg  | 1804 | 7\n",
      "afg  | 1805 | 7\n",
      "afg  | 1806 | 7\n",
      "afg  | 1807 | 7\n",
      "afg  | 1808 | 7\n",
      "afg  | 1809 | 7\n",
      "... (43402 rows omitted)\n",
      "geo  | time | child_mortality_under_5_per_1000_born\n",
      "afg  | 1800 | 468.6\n",
      "afg  | 1801 | 468.6\n",
      "afg  | 1802 | 468.6\n",
      "afg  | 1803 | 468.6\n",
      "afg  | 1804 | 468.6\n",
      "afg  | 1805 | 468.6\n",
      "afg  | 1806 | 470\n",
      "afg  | 1807 | 470\n",
      "afg  | 1808 | 470\n",
      "afg  | 1809 | 470\n",
      "... (40746 rows omitted)\n",
      "geo  | time | population_total\n",
      "abw  | 1800 | 19286\n",
      "abw  | 1801 | 19286\n",
      "abw  | 1802 | 19286\n",
      "abw  | 1803 | 19286\n",
      "abw  | 1804 | 19286\n",
      "abw  | 1805 | 19286\n",
      "abw  | 1806 | 19286\n",
      "abw  | 1807 | 19286\n",
      "abw  | 1808 | 19286\n",
      "abw  | 1809 | 19286\n",
      "... (87785 rows omitted)\n"
     ]
    }
   ],
   "source": [
    "print(fertility)\n",
    "print(child_mortality)\n",
    "print(population)"
   ]
  },
  {
   "cell_type": "code",
   "execution_count": 14,
   "metadata": {
    "colab": {},
    "colab_type": "code",
    "id": "4IUlfMORnl6x"
   },
   "outputs": [],
   "source": [
    "# We first create a population table that only includes the \n",
    "# 50 countries with the largest 2010 populations. We focus on \n",
    "# these 50 countries only so that plotting later will run faster.\n",
    "big_50 = population.where('time', 2010).sort(2, descending=True).take(np.arange(50)).column('geo')\n",
    "population_of_big_50 = population.where('time', are.above(1959)).where('geo', are.contained_in(big_50))\n",
    "f_of_big_50 = fertility.where('time', are.above(1959)).where('geo', are.contained_in(big_50))\n",
    "m_of_big_50 = child_mortality.where('time', are.above(1959)).where('geo', are.contained_in(big_50))\n",
    "\n",
    "def stats_for_year(year):\n",
    "    \"\"\"Return a table of the stats for each country that year.\"\"\"\n",
    "    p = population_of_big_50.where('time', year).drop('time')\n",
    "    f = f_of_big_50.where('time', year).drop('time').sort(\"geo\",descending = False)\n",
    "    c = m_of_big_50.where('time', year).drop('time').sort(\"geo\",descending = False)\n",
    "    stats = Table().with_columns(\"geo\",p.column(\"geo\"),\n",
    "                                  \"population_total\",p.column(\"population_total\"),\n",
    "                                  \"children_per_woman_total_fertility\",f.column(\"children_per_woman_total_fertility\"),\n",
    "                                  \"child_mortality_under_5_per_1000_born\",c.column(\"child_mortality_under_5_per_1000_born\"))\n",
    "    return stats\n",
    "                                  "
   ]
  },
  {
   "cell_type": "markdown",
   "metadata": {
    "colab_type": "text",
    "deletable": false,
    "editable": false,
    "id": "ZBsoL0LuNkBV"
   },
   "source": [
    "Try calling your function `stats_for_year` on any year between 1960 and 2010 in the cell below.  Try to understand the output of `stats_for_year`."
   ]
  },
  {
   "cell_type": "code",
   "execution_count": 0,
   "metadata": {
    "colab": {},
    "colab_type": "code",
    "id": "2FqdhLsPNkBX"
   },
   "outputs": [],
   "source": [
    "stats_for_year(1960)\n",
    "\n"
   ]
  },
  {
   "cell_type": "code",
   "execution_count": 134,
   "metadata": {
    "colab": {
     "base_uri": "https://localhost:8080/",
     "height": 35
    },
    "colab_type": "code",
    "deletable": false,
    "editable": false,
    "id": "oGtcHWe8NkBa",
    "outputId": "78bb8232-b5a6-4ef4-ed02-9a9f3401a2ac"
   },
   "outputs": [
    {
     "data": {
      "text/html": [
       "<pre>q1_11.ok: All tests passed!</pre>"
      ],
      "text/plain": [
       "<okgrade.result.TestResult at 0x7fe96c570dd8>"
      ]
     },
     "execution_count": 134,
     "metadata": {
      "tags": []
     },
     "output_type": "execute_result"
    }
   ],
   "source": [
    "grade('q1_11.ok')"
   ]
  },
  {
   "cell_type": "markdown",
   "metadata": {
    "colab_type": "text",
    "deletable": false,
    "editable": false,
    "id": "nQ9Wdv97NkBd"
   },
   "source": [
    "**Question 12.** Create a table called `pop_by_decade` with two columns called `decade` and `population`. It has a row for each `year` since 1960 that starts a decade. The `population` column contains the total population of all countries included in the result of `stats_for_year(year)` for the first `year` of the decade. For example, 1960 is the first year of the 1960's decade. You should see that these countries contain most of the world's population.\n",
    "\n",
    "*Hint:* One approach is to define a function `pop_for_year` that computes this total population, then `apply` it to the `decade` column.  The `stats_for_year` function from the previous quesiton may be useful here."
   ]
  },
  {
   "cell_type": "code",
   "execution_count": 15,
   "metadata": {
    "colab": {
     "base_uri": "https://localhost:8080/",
     "height": 228
    },
    "colab_type": "code",
    "id": "TYLP0Q4pNkBf",
    "outputId": "9b359771-db7b-494c-e5e9-f451f9066a8a"
   },
   "outputs": [
    {
     "data": {
      "text/html": [
       "<table border=\"1\" class=\"dataframe\">\n",
       "    <thead>\n",
       "        <tr>\n",
       "            <th>decade</th> <th>population</th>\n",
       "        </tr>\n",
       "    </thead>\n",
       "    <tbody>\n",
       "        <tr>\n",
       "            <td>1960  </td> <td>2624944597</td>\n",
       "        </tr>\n",
       "        <tr>\n",
       "            <td>1970  </td> <td>3211487418</td>\n",
       "        </tr>\n",
       "        <tr>\n",
       "            <td>1980  </td> <td>3880722003</td>\n",
       "        </tr>\n",
       "        <tr>\n",
       "            <td>1990  </td> <td>4648434558</td>\n",
       "        </tr>\n",
       "        <tr>\n",
       "            <td>2000  </td> <td>5367553063</td>\n",
       "        </tr>\n",
       "        <tr>\n",
       "            <td>2010  </td> <td>6040810517</td>\n",
       "        </tr>\n",
       "    </tbody>\n",
       "</table>"
      ],
      "text/plain": [
       "decade | population\n",
       "1960   | 2624944597\n",
       "1970   | 3211487418\n",
       "1980   | 3880722003\n",
       "1990   | 4648434558\n",
       "2000   | 5367553063\n",
       "2010   | 6040810517"
      ]
     },
     "execution_count": 15,
     "metadata": {},
     "output_type": "execute_result"
    }
   ],
   "source": [
    "decades = make_array(1960,1970,1980,1990,2000,2010)\n",
    "\n",
    "pop_by_decade = population_of_big_50.group('time', sum).where(\"time\",are.contained_in(decades))                                        \n",
    "pop_by_decade = pop_by_decade.relabeled(\"time\",\"decade\")\n",
    "pop_by_decade = pop_by_decade.relabeled(\"population_total sum\",\"population\")\n",
    "pop_by_decade = pop_by_decade.select(\"decade\",\"population\")\n",
    "    \n",
    "pop_by_decade"
   ]
  },
  {
   "cell_type": "markdown",
   "metadata": {
    "colab_type": "text",
    "deletable": false,
    "editable": false,
    "id": "qVrDRwHsNkBk"
   },
   "source": [
    "This test is just a sanity check for your helper function if you choose to use it. You will not lose points for not implementing the function `pop_for_year`."
   ]
  },
  {
   "cell_type": "code",
   "execution_count": 0,
   "metadata": {
    "colab": {},
    "colab_type": "code",
    "id": "TQQg9FVnNkBl"
   },
   "outputs": [],
   "source": [
    "grade('q1_12_0.ok')"
   ]
  },
  {
   "cell_type": "code",
   "execution_count": 16,
   "metadata": {
    "colab": {},
    "colab_type": "code",
    "deletable": false,
    "id": "oRseg_jGNkBn"
   },
   "outputs": [
    {
     "data": {
      "text/html": [
       "<table border=\"1\" class=\"dataframe\">\n",
       "    <thead>\n",
       "        <tr>\n",
       "            <th>decade</th> <th>population</th>\n",
       "        </tr>\n",
       "    </thead>\n",
       "    <tbody>\n",
       "        <tr>\n",
       "            <td>1960  </td> <td>2,624,944,597</td>\n",
       "        </tr>\n",
       "        <tr>\n",
       "            <td>1970  </td> <td>3,211,487,418</td>\n",
       "        </tr>\n",
       "        <tr>\n",
       "            <td>1980  </td> <td>3,880,722,003</td>\n",
       "        </tr>\n",
       "        <tr>\n",
       "            <td>1990  </td> <td>4,648,434,558</td>\n",
       "        </tr>\n",
       "        <tr>\n",
       "            <td>2000  </td> <td>5,367,553,063</td>\n",
       "        </tr>\n",
       "        <tr>\n",
       "            <td>2010  </td> <td>6,040,810,517</td>\n",
       "        </tr>\n",
       "    </tbody>\n",
       "</table>"
      ],
      "text/plain": [
       "decade | population\n",
       "1960   | 2,624,944,597\n",
       "1970   | 3,211,487,418\n",
       "1980   | 3,880,722,003\n",
       "1990   | 4,648,434,558\n",
       "2000   | 5,367,553,063\n",
       "2010   | 6,040,810,517"
      ]
     },
     "execution_count": 16,
     "metadata": {},
     "output_type": "execute_result"
    }
   ],
   "source": [
    "decades = Table().with_column('decade', np.arange(1960, 2011, 10))\n",
    "\n",
    "pop_by_decade.set_format(1, NumberFormatter)"
   ]
  },
  {
   "cell_type": "code",
   "execution_count": 170,
   "metadata": {
    "colab": {
     "base_uri": "https://localhost:8080/",
     "height": 35
    },
    "colab_type": "code",
    "deletable": false,
    "editable": false,
    "id": "B0Ya3aASNkBz",
    "outputId": "96c95e8b-56d6-42fb-d9fb-a3936bcb9e56"
   },
   "outputs": [
    {
     "data": {
      "text/html": [
       "<pre>q1_12.ok: All tests passed!</pre>"
      ],
      "text/plain": [
       "<okgrade.result.TestResult at 0x7fe96f2325f8>"
      ]
     },
     "execution_count": 170,
     "metadata": {
      "tags": []
     },
     "output_type": "execute_result"
    }
   ],
   "source": [
    "grade('q1_12.ok')"
   ]
  },
  {
   "cell_type": "markdown",
   "metadata": {
    "colab_type": "text",
    "deletable": false,
    "editable": false,
    "id": "upKesfFcNkB2"
   },
   "source": [
    "The `countries` table describes various characteristics of countries. The `country` column contains the same codes as the `geo` column in each of the other data tables (`population`, `fertility`, and `child_mortality`). The `world_6region` column classifies each country into a region of the world. Run the cell below to inspect the data."
   ]
  },
  {
   "cell_type": "code",
   "execution_count": 17,
   "metadata": {
    "colab": {
     "base_uri": "https://localhost:8080/",
     "height": 372
    },
    "colab_type": "code",
    "deletable": false,
    "editable": false,
    "id": "IjZZif2wNkB3",
    "outputId": "51da0e09-635a-49c8-db4e-3e744878ba1d"
   },
   "outputs": [
    {
     "data": {
      "text/html": [
       "<table border=\"1\" class=\"dataframe\">\n",
       "    <thead>\n",
       "        <tr>\n",
       "            <th>country</th> <th>name</th> <th>world_6region</th>\n",
       "        </tr>\n",
       "    </thead>\n",
       "    <tbody>\n",
       "        <tr>\n",
       "            <td>afg      </td> <td>Afghanistan          </td> <td>south_asia              </td>\n",
       "        </tr>\n",
       "        <tr>\n",
       "            <td>akr_a_dhe</td> <td>Akrotiri and Dhekelia</td> <td>europe_central_asia     </td>\n",
       "        </tr>\n",
       "        <tr>\n",
       "            <td>alb      </td> <td>Albania              </td> <td>europe_central_asia     </td>\n",
       "        </tr>\n",
       "        <tr>\n",
       "            <td>dza      </td> <td>Algeria              </td> <td>middle_east_north_africa</td>\n",
       "        </tr>\n",
       "        <tr>\n",
       "            <td>asm      </td> <td>American Samoa       </td> <td>east_asia_pacific       </td>\n",
       "        </tr>\n",
       "        <tr>\n",
       "            <td>and      </td> <td>Andorra              </td> <td>europe_central_asia     </td>\n",
       "        </tr>\n",
       "        <tr>\n",
       "            <td>ago      </td> <td>Angola               </td> <td>sub_saharan_africa      </td>\n",
       "        </tr>\n",
       "        <tr>\n",
       "            <td>aia      </td> <td>Anguilla             </td> <td>america                 </td>\n",
       "        </tr>\n",
       "        <tr>\n",
       "            <td>atg      </td> <td>Antigua and Barbuda  </td> <td>america                 </td>\n",
       "        </tr>\n",
       "        <tr>\n",
       "            <td>arg      </td> <td>Argentina            </td> <td>america                 </td>\n",
       "        </tr>\n",
       "    </tbody>\n",
       "</table>\n",
       "<p>... (245 rows omitted)</p>"
      ],
      "text/plain": [
       "country   | name                  | world_6region\n",
       "afg       | Afghanistan           | south_asia\n",
       "akr_a_dhe | Akrotiri and Dhekelia | europe_central_asia\n",
       "alb       | Albania               | europe_central_asia\n",
       "dza       | Algeria               | middle_east_north_africa\n",
       "asm       | American Samoa        | east_asia_pacific\n",
       "and       | Andorra               | europe_central_asia\n",
       "ago       | Angola                | sub_saharan_africa\n",
       "aia       | Anguilla              | america\n",
       "atg       | Antigua and Barbuda   | america\n",
       "arg       | Argentina             | america\n",
       "... (245 rows omitted)"
      ]
     },
     "execution_count": 17,
     "metadata": {},
     "output_type": "execute_result"
    }
   ],
   "source": [
    "countries = Table.read_table('countries.csv').where('country', are.contained_in(population.group('geo').column(0)))\n",
    "countries.select('country', 'name', 'world_6region')"
   ]
  },
  {
   "cell_type": "markdown",
   "metadata": {
    "colab_type": "text",
    "deletable": false,
    "editable": false,
    "id": "BvVh39DINkB9"
   },
   "source": [
    "**Question 13.** Create a table called `region_counts` that has two columns, `region` and `count`. It should describe the count of how many countries in each region appear in the result of `stats_for_year(1960)`. For example, one row would have `south_asia` as its `world_6region` value and an integer as its `count` value: the number of large South Asian countries for which we have population, fertility, and child mortality numbers from 1960."
   ]
  },
  {
   "cell_type": "code",
   "execution_count": 187,
   "metadata": {
    "colab": {
     "base_uri": "https://localhost:8080/",
     "height": 228
    },
    "colab_type": "code",
    "deletable": false,
    "id": "j7FvQpYjNkCK",
    "outputId": "f86768f3-888d-4635-e9a4-ab051487d0a4"
   },
   "outputs": [
    {
     "data": {
      "text/html": [
       "<table border=\"1\" class=\"dataframe\">\n",
       "    <thead>\n",
       "        <tr>\n",
       "            <th>region</th> <th>count</th>\n",
       "        </tr>\n",
       "    </thead>\n",
       "    <tbody>\n",
       "        <tr>\n",
       "            <td>america                 </td> <td>8    </td>\n",
       "        </tr>\n",
       "        <tr>\n",
       "            <td>east_asia_pacific       </td> <td>10   </td>\n",
       "        </tr>\n",
       "        <tr>\n",
       "            <td>europe_central_asia     </td> <td>10   </td>\n",
       "        </tr>\n",
       "        <tr>\n",
       "            <td>middle_east_north_africa</td> <td>7    </td>\n",
       "        </tr>\n",
       "        <tr>\n",
       "            <td>south_asia              </td> <td>5    </td>\n",
       "        </tr>\n",
       "        <tr>\n",
       "            <td>sub_saharan_africa      </td> <td>10   </td>\n",
       "        </tr>\n",
       "    </tbody>\n",
       "</table>"
      ],
      "text/plain": [
       "region                   | count\n",
       "america                  | 8\n",
       "east_asia_pacific        | 10\n",
       "europe_central_asia      | 10\n",
       "middle_east_north_africa | 7\n",
       "south_asia               | 5\n",
       "sub_saharan_africa       | 10"
      ]
     },
     "execution_count": 187,
     "metadata": {
      "tags": []
     },
     "output_type": "execute_result"
    }
   ],
   "source": [
    "countries_50 = countries.where(\"country\",are.contained_in(stats_for_year(1960).column(\"geo\")))\n",
    "countries_grouped = countries_50.group(\"world_6region\")\n",
    "region_counts = countries_grouped.relabeled(\"world_6region\",\"region\")\n",
    "region_counts"
   ]
  },
  {
   "cell_type": "code",
   "execution_count": 189,
   "metadata": {
    "colab": {
     "base_uri": "https://localhost:8080/",
     "height": 35
    },
    "colab_type": "code",
    "deletable": false,
    "editable": false,
    "id": "6vNmfJGuNkCO",
    "outputId": "5eee03c0-1e94-46c9-9826-dd77a756f819"
   },
   "outputs": [
    {
     "data": {
      "text/html": [
       "<pre>q1_13.ok: All tests passed!</pre>"
      ],
      "text/plain": [
       "<okgrade.result.TestResult at 0x7fe96c0f5198>"
      ]
     },
     "execution_count": 189,
     "metadata": {
      "tags": []
     },
     "output_type": "execute_result"
    }
   ],
   "source": [
    "grade('q1_13.ok')"
   ]
  },
  {
   "cell_type": "markdown",
   "metadata": {
    "colab_type": "text",
    "deletable": false,
    "editable": false,
    "id": "M-LfkAfBNkCU"
   },
   "source": [
    "The following scatter diagram compares total fertility rate and child mortality rate for each country in 1960. The area of each dot represents the population of the country, and the color represents its region of the world. Run the cell. Do you think you can identify any of the dots?"
   ]
  },
  {
   "cell_type": "code",
   "execution_count": 18,
   "metadata": {
    "colab": {
     "base_uri": "https://localhost:8080/",
     "height": 379
    },
    "colab_type": "code",
    "deletable": false,
    "id": "oBLc-6saNkCV",
    "outputId": "dbcf689f-a0fa-4e03-b4f3-99081d9d59c8"
   },
   "outputs": [
    {
     "data": {
      "image/png": "[encoded data removed]",
      "text/plain": [
       "<matplotlib.figure.Figure at 0x1a0f920f98>"
      ]
     },
     "metadata": {},
     "output_type": "display_data"
    }
   ],
   "source": [
    "from functools import lru_cache as cache\n",
    "\n",
    "# This cache annotation makes sure that if the same year\n",
    "# is passed as an argument twice, the work of computing\n",
    "# the result is only carried out once.\n",
    "@cache(None)\n",
    "def stats_relabeled(year):\n",
    "    \"\"\"Relabeled and cached version of stats_for_year.\"\"\"\n",
    "    return stats_for_year(year).relabeled(2, 'Children per woman').relabeled(3, 'Child deaths per 1000 born')\n",
    "\n",
    "def fertility_vs_child_mortality(year):\n",
    "    \"\"\"Draw a color scatter diagram comparing child mortality and fertility.\"\"\"\n",
    "    with_region = stats_relabeled(year).join('geo', countries.select('country', 'world_6region'), 'country')\n",
    "    with_region.scatter(2, 3, sizes=1, colors=4, s=500)\n",
    "    plots.xlim(0,10)\n",
    "    plots.ylim(-50, 500)\n",
    "    plots.title(year)\n",
    "\n",
    "fertility_vs_child_mortality(1960)"
   ]
  },
  {
   "cell_type": "markdown",
   "metadata": {
    "colab_type": "text",
    "deletable": false,
    "editable": false,
    "id": "p6BSURZVNkCZ"
   },
   "source": [
    "**Question 14.** Assign `scatter_statements` to a list of the numbers of each statement below that can be inferred from this scatter diagram for 1960. \n",
    "1. The `europe_central_asia` region had the lowest child mortality rate.\n",
    "1. The lowest child mortality rate of any country was from an `east_asian_pacific` country.\n",
    "1. Most countries had a fertility rate above 5.\n",
    "1. There was an association between child mortality and fertility.\n",
    "1. The two largest countries by population also had the two highest child mortality rate."
   ]
  },
  {
   "cell_type": "code",
   "execution_count": 0,
   "metadata": {
    "colab": {},
    "colab_type": "code",
    "deletable": false,
    "id": "221OG0P5NkCb"
   },
   "outputs": [],
   "source": [
    "scatter_statements = [3]"
   ]
  },
  {
   "cell_type": "code",
   "execution_count": 102,
   "metadata": {
    "colab": {
     "base_uri": "https://localhost:8080/",
     "height": 35
    },
    "colab_type": "code",
    "deletable": false,
    "editable": false,
    "id": "5eHlXi66NkCe",
    "outputId": "907b8dd2-67ea-4b47-fc33-817b2c03a1f8"
   },
   "outputs": [
    {
     "data": {
      "text/html": [
       "<pre>q1_14.ok: All tests passed!</pre>"
      ],
      "text/plain": [
       "<okgrade.result.TestResult at 0x7fe96f845f60>"
      ]
     },
     "execution_count": 102,
     "metadata": {
      "tags": []
     },
     "output_type": "execute_result"
    }
   ],
   "source": [
    "grade('q1_14.ok')"
   ]
  },
  {
   "cell_type": "markdown",
   "metadata": {
    "colab_type": "text",
    "deletable": false,
    "id": "qOFvtm9ENkCh"
   },
   "source": [
    "The result of the cell below is interactive. Drag the slider to the right to see how countries have changed over time. You'll find that the great divide between so-called \"Western\" and \"developing\" countries that existed in the 1960's has nearly disappeared. This shift in fertility rates is the reason that the global population is expected to grow more slowly in the 21st century than it did in the 19th and 20th centuries."
   ]
  },
  {
   "cell_type": "code",
   "execution_count": 19,
   "metadata": {
    "colab": {},
    "colab_type": "code",
    "deletable": false,
    "id": "H5f_VWo-NkCi",
    "scrolled": false
   },
   "outputs": [
    {
     "name": "stderr",
     "output_type": "stream",
     "text": [
      "/anaconda3/lib/python3.6/site-packages/datascience/tables.py:192: FutureWarning: Implicit column method lookup is deprecated.\n",
      "  warnings.warn(\"Implicit column method lookup is deprecated.\", FutureWarning)\n"
     ]
    },
    {
     "data": {
      "application/vnd.jupyter.widget-view+json": {
       "model_id": "253c0b454aa04dc794eb31b34ac0a568",
       "version_major": 2,
       "version_minor": 0
      },
      "text/html": [
       "<p>Failed to display Jupyter Widget of type <code>interactive</code>.</p>\n",
       "<p>\n",
       "  If you're reading this message in the Jupyter Notebook or JupyterLab Notebook, it may mean\n",
       "  that the widgets JavaScript is still loading. If this message persists, it\n",
       "  likely means that the widgets JavaScript library is either not installed or\n",
       "  not enabled. See the <a href=\"https://ipywidgets.readthedocs.io/en/stable/user_install.html\">Jupyter\n",
       "  Widgets Documentation</a> for setup instructions.\n",
       "</p>\n",
       "<p>\n",
       "  If you're reading this message in another frontend (for example, a static\n",
       "  rendering on GitHub or <a href=\"https://nbviewer.jupyter.org/\">NBViewer</a>),\n",
       "  it may mean that your frontend doesn't currently support widgets.\n",
       "</p>\n"
      ],
      "text/plain": [
       "interactive(children=(IntSlider(value=1960, description='year', max=2015, min=1960), Output()), _dom_classes=('widget-interact',))"
      ]
     },
     "metadata": {},
     "output_type": "display_data"
    }
   ],
   "source": [
    "import ipywidgets as widgets\n",
    "\n",
    "# This part takes a few minutes to run because it \n",
    "# computes 55 tables in advance: one for each year.\n",
    "Table().with_column('Year', np.arange(1960, 2016)).apply(stats_relabeled, 'Year')\n",
    "\n",
    "_ = widgets.interact(fertility_vs_child_mortality, \n",
    "                     year=widgets.IntSlider(min=1960, max=2015, value=1960))"
   ]
  },
  {
   "cell_type": "markdown",
   "metadata": {
    "colab_type": "text",
    "deletable": false,
    "editable": false,
    "id": "X26LdJQjNkCk"
   },
   "source": [
    "Now is a great time to take a break and watch the same data presented by [Hans Rosling in a 2010 TEDx talk](https://www.gapminder.org/videos/reducing-child-mortality-a-moral-and-environmental-imperative) with smoother animation and witty commentary."
   ]
  },
  {
   "cell_type": "markdown",
   "metadata": {
    "colab_type": "text",
    "deletable": false,
    "editable": false,
    "id": "K2NGUEuZNkCn"
   },
   "source": [
    "## 2. Global Poverty\n"
   ]
  },
  {
   "cell_type": "markdown",
   "metadata": {
    "colab_type": "text",
    "deletable": false,
    "editable": false,
    "id": "3nSZb3dINkCn"
   },
   "source": [
    "In 1800, 85% of the world's 1 billion people lived in *extreme poverty*, defined by the United Nations as \"a condition characterized by severe deprivation of basic human needs, including food, safe drinking water, sanitation facilities, health, shelter, education and information.\" A common measure of extreme poverty is a person living on less than \\$1.25 per day.\n",
    "\n",
    "In 2018, the proportion of people living in extreme poverty was estimated to be 8%. Although the world rate of extreme poverty has declined consistently for hundreds of years, the number of people living in extreme poverty is still over 600 million. The United Nations recently adopted an [ambitious goal](http://www.un.org/sustainabledevelopment/poverty/): \"By 2030, eradicate extreme poverty for all people everywhere.\"\n",
    "In this section, we will examine extreme poverty trends around the world."
   ]
  },
  {
   "cell_type": "markdown",
   "metadata": {
    "colab_type": "text",
    "deletable": false,
    "editable": false,
    "id": "nKcNSs5WNkCo"
   },
   "source": [
    "First, load the population and poverty rate by country and year and the country descriptions. While the `population` table has values for every recent year for many countries, the `poverty` table only includes certain years for each country in which a measurement of the rate of extreme poverty was available."
   ]
  },
  {
   "cell_type": "code",
   "execution_count": 36,
   "metadata": {
    "colab": {
     "base_uri": "https://localhost:8080/",
     "height": 692
    },
    "colab_type": "code",
    "deletable": false,
    "editable": false,
    "id": "P2saa_vaNkCp",
    "outputId": "0ce478ff-5165-4f6b-e16b-d56be3c067fb"
   },
   "outputs": [
    {
     "data": {
      "image/png": "[encoded data removed]",
      "text/plain": [
       "<matplotlib.figure.Figure at 0x7fef1cdbdcf8>"
      ]
     },
     "metadata": {
      "tags": []
     },
     "output_type": "display_data"
    },
    {
     "data": {
      "image/png": "[encoded data removed]",
      "text/plain": [
       "<matplotlib.figure.Figure at 0x7fef1cb47b38>"
      ]
     },
     "metadata": {
      "tags": []
     },
     "output_type": "display_data"
    }
   ],
   "source": [
    "population = Table.read_table('population.csv')\n",
    "countries = Table.read_table('countries.csv').where('country', are.contained_in(population.group('geo').column(0)))\n",
    "poverty = Table.read_table('poverty.csv')\n",
    "poverty\n",
    "#poverty.where(\"geo\",\"arm\").where(\"time\",2012)\n",
    "poverty.where(\"geo\",\"usa\").plot(\"time\",\"extreme_poverty_percent_people_below_125_a_day\",marker = \"o\")\n",
    "poverty.where(\"time\",2010).hist(\"extreme_poverty_percent_people_below_125_a_day\",bins = np.arange(0,100,5),normed = True)"
   ]
  },
  {
   "cell_type": "markdown",
   "metadata": {
    "colab_type": "text",
    "deletable": false,
    "editable": false,
    "id": "WOxHB43CNkCt"
   },
   "source": [
    "**Question 1.** Assign `latest` to a three-column table with one row for each country that appears in the `poverty` table. The first column should contain the 3-letter code for the country. The second column should contain the *most recent year* for which an extreme poverty rate is available for the country. The third column should contain the poverty rate in that year. **Do not change the last line, so that the labels of your table are set correctly.**\n",
    "\n",
    "*Hint*: think about how ```group``` works: it does a sequential search of the table (from top to bottom) and collects values in the array in the order in which they appear, and then applies a function to that array. The `first` function may be helpful, but you are not required to use it."
   ]
  },
  {
   "cell_type": "code",
   "execution_count": 7,
   "metadata": {
    "colab": {
     "base_uri": "https://localhost:8080/",
     "height": 388
    },
    "colab_type": "code",
    "deletable": false,
    "id": "pNcIKnpjNkCx",
    "outputId": "c962ceef-af37-48bf-976b-3f670e236ae1"
   },
   "outputs": [
    {
     "data": {
      "text/html": [
       "<table border=\"1\" class=\"dataframe\">\n",
       "    <thead>\n",
       "        <tr>\n",
       "            <th>geo</th> <th>time</th> <th>poverty_percent</th>\n",
       "        </tr>\n",
       "    </thead>\n",
       "    <tbody>\n",
       "        <tr>\n",
       "            <td>ago </td> <td>2009</td> <td>43.37          </td>\n",
       "        </tr>\n",
       "        <tr>\n",
       "            <td>alb </td> <td>2012</td> <td>0.46           </td>\n",
       "        </tr>\n",
       "        <tr>\n",
       "            <td>arg </td> <td>2011</td> <td>1.41           </td>\n",
       "        </tr>\n",
       "        <tr>\n",
       "            <td>arm </td> <td>2012</td> <td>1.75           </td>\n",
       "        </tr>\n",
       "        <tr>\n",
       "            <td>aus </td> <td>2003</td> <td>1.36           </td>\n",
       "        </tr>\n",
       "        <tr>\n",
       "            <td>aut </td> <td>2004</td> <td>0.34           </td>\n",
       "        </tr>\n",
       "        <tr>\n",
       "            <td>aze </td> <td>2008</td> <td>0.31           </td>\n",
       "        </tr>\n",
       "        <tr>\n",
       "            <td>bdi </td> <td>2006</td> <td>81.32          </td>\n",
       "        </tr>\n",
       "        <tr>\n",
       "            <td>bel </td> <td>2000</td> <td>0.5            </td>\n",
       "        </tr>\n",
       "        <tr>\n",
       "            <td>ben </td> <td>2012</td> <td>51.61          </td>\n",
       "        </tr>\n",
       "    </tbody>\n",
       "</table>\n",
       "<p>... (135 rows omitted)</p>"
      ],
      "text/plain": [
       "geo  | time | poverty_percent\n",
       "ago  | 2009 | 43.37\n",
       "alb  | 2012 | 0.46\n",
       "arg  | 2011 | 1.41\n",
       "arm  | 2012 | 1.75\n",
       "aus  | 2003 | 1.36\n",
       "aut  | 2004 | 0.34\n",
       "aze  | 2008 | 0.31\n",
       "bdi  | 2006 | 81.32\n",
       "bel  | 2000 | 0.5\n",
       "ben  | 2012 | 51.61\n",
       "... (135 rows omitted)"
      ]
     },
     "execution_count": 7,
     "metadata": {
      "tags": []
     },
     "output_type": "execute_result"
    }
   ],
   "source": [
    "def first(values):\n",
    "    return values.item(0)\n",
    "\n",
    "poverty = poverty.sort(\"geo\",descending = False)\n",
    "poverty_percent_list = []\n",
    "k=0\n",
    "\n",
    "poverty_limited = poverty.select(\"geo\",\"time\")\n",
    "poverty_limited = poverty_limited.group(\"geo\",max)\n",
    "for i in range(poverty.num_rows):\n",
    "    for j in range(poverty_limited.num_rows):\n",
    "        if poverty.column(\"geo\").take(i) == poverty_limited.column(\"geo\").take(j) and poverty.column(\"time\").take(i) == poverty_limited.column(\"time max\").take(j):\n",
    "            #print(poverty.column(\"geo\").take(i), poverty.column(\"time\").take(i),poverty.column(\"extreme_poverty_percent_people_below_125_a_day\").take(i))\n",
    "            poverty_percent_list.append(poverty.column(\"extreme_poverty_percent_people_below_125_a_day\").take(i))\n",
    "                                        \n",
    "latest = poverty_limited.with_columns(\"poverty_percent\",poverty_percent_list)\n",
    "          \n",
    "latest.relabel(0, 'geo').relabel(1, 'time').relabel(2, 'poverty_percent') # You should *not* change this line.\n",
    "latest  \n",
    "\n",
    "\n",
    "\n",
    "                                        "
   ]
  },
  {
   "cell_type": "code",
   "execution_count": 129,
   "metadata": {
    "colab": {
     "base_uri": "https://localhost:8080/",
     "height": 34
    },
    "colab_type": "code",
    "deletable": false,
    "id": "YZAfElS8NkC-",
    "outputId": "a2ee8b80-016a-436d-9085-6570374f0632"
   },
   "outputs": [
    {
     "data": {
      "text/html": [
       "<pre>q2_1.ok: All tests passed!</pre>"
      ],
      "text/plain": [
       "<okgrade.result.TestResult at 0x7f075765a588>"
      ]
     },
     "execution_count": 129,
     "metadata": {
      "tags": []
     },
     "output_type": "execute_result"
    }
   ],
   "source": [
    "grade('q2_1.ok')"
   ]
  },
  {
   "cell_type": "markdown",
   "metadata": {
    "colab_type": "text",
    "deletable": false,
    "editable": false,
    "id": "oxdmJUOyNkDB"
   },
   "source": [
    "**Question 2.** Using both `latest` and `population`, create a four-column table called `recent` with one row for each country in `latest`. The four columns should have the following labels and contents:\n",
    "1. `geo` contains the 3-letter country code,\n",
    "1. `poverty_percent` contains the most recent poverty percent,\n",
    "1. `population_total` contains the population of the country in 2010,\n",
    "1. `poverty_total` contains the number of people in poverty **rounded to the nearest integer**, based on the 2010 population and most recent poverty rate."
   ]
  },
  {
   "cell_type": "code",
   "execution_count": 0,
   "metadata": {
    "colab": {},
    "colab_type": "code",
    "id": "p2kOfs-g-T7S"
   },
   "outputs": [],
   "source": [
    "population"
   ]
  },
  {
   "cell_type": "code",
   "execution_count": 8,
   "metadata": {
    "colab": {
     "base_uri": "https://localhost:8080/",
     "height": 388
    },
    "colab_type": "code",
    "deletable": false,
    "id": "Z6oISIMiNkDB",
    "outputId": "0a62c540-ef0b-4c85-c537-b5d88c31d242"
   },
   "outputs": [
    {
     "data": {
      "text/html": [
       "<table border=\"1\" class=\"dataframe\">\n",
       "    <thead>\n",
       "        <tr>\n",
       "            <th>geo</th> <th>poverty_percent</th> <th>population_total</th> <th>poverty_total</th>\n",
       "        </tr>\n",
       "    </thead>\n",
       "    <tbody>\n",
       "        <tr>\n",
       "            <td>ago </td> <td>43.37          </td> <td>21219954        </td> <td>9.20309e+06  </td>\n",
       "        </tr>\n",
       "        <tr>\n",
       "            <td>alb </td> <td>0.46           </td> <td>2901883         </td> <td>13349        </td>\n",
       "        </tr>\n",
       "        <tr>\n",
       "            <td>arg </td> <td>1.41           </td> <td>41222875        </td> <td>581243       </td>\n",
       "        </tr>\n",
       "        <tr>\n",
       "            <td>arm </td> <td>1.75           </td> <td>2963496         </td> <td>51861        </td>\n",
       "        </tr>\n",
       "        <tr>\n",
       "            <td>aus </td> <td>1.36           </td> <td>22162863        </td> <td>301415       </td>\n",
       "        </tr>\n",
       "        <tr>\n",
       "            <td>aut </td> <td>0.34           </td> <td>8391986         </td> <td>28533        </td>\n",
       "        </tr>\n",
       "        <tr>\n",
       "            <td>aze </td> <td>0.31           </td> <td>9099893         </td> <td>28210        </td>\n",
       "        </tr>\n",
       "        <tr>\n",
       "            <td>bdi </td> <td>81.32          </td> <td>9461117         </td> <td>7.69378e+06  </td>\n",
       "        </tr>\n",
       "        <tr>\n",
       "            <td>bel </td> <td>0.5            </td> <td>10929978        </td> <td>54650        </td>\n",
       "        </tr>\n",
       "        <tr>\n",
       "            <td>ben </td> <td>51.61          </td> <td>9509798         </td> <td>4.90801e+06  </td>\n",
       "        </tr>\n",
       "    </tbody>\n",
       "</table>\n",
       "<p>... (135 rows omitted)</p>"
      ],
      "text/plain": [
       "geo  | poverty_percent | population_total | poverty_total\n",
       "ago  | 43.37           | 21219954         | 9.20309e+06\n",
       "alb  | 0.46            | 2901883          | 13349\n",
       "arg  | 1.41            | 41222875         | 581243\n",
       "arm  | 1.75            | 2963496          | 51861\n",
       "aus  | 1.36            | 22162863         | 301415\n",
       "aut  | 0.34            | 8391986          | 28533\n",
       "aze  | 0.31            | 9099893          | 28210\n",
       "bdi  | 81.32           | 9461117          | 7.69378e+06\n",
       "bel  | 0.5             | 10929978         | 54650\n",
       "ben  | 51.61           | 9509798          | 4.90801e+06\n",
       "... (135 rows omitted)"
      ]
     },
     "execution_count": 8,
     "metadata": {
      "tags": []
     },
     "output_type": "execute_result"
    }
   ],
   "source": [
    "pop = population.where(\"time\",2010).where(\"geo\", are.contained_in(latest.column(\"geo\"))).sort(\"geo\",descending = False).column(\"population_total\")                                         \n",
    "poverty_percent = latest.column(\"poverty_percent\")\n",
    "poverty_total = np.round(pop*poverty_percent/100)                                                                                                \n",
    "                                                                                                \n",
    "recent = latest.with_columns(\"population_total\",pop,\"poverty_total\",poverty_total)\n",
    "recent = recent.drop(\"time\")\n",
    "recent"
   ]
  },
  {
   "cell_type": "code",
   "execution_count": 131,
   "metadata": {
    "colab": {
     "base_uri": "https://localhost:8080/",
     "height": 34
    },
    "colab_type": "code",
    "deletable": false,
    "editable": false,
    "id": "8FlVc7dDNkDF",
    "outputId": "f2067177-9138-40c7-fc68-270b4bf5c8c1"
   },
   "outputs": [
    {
     "data": {
      "text/html": [
       "<pre>q2_2.ok: All tests passed!</pre>"
      ],
      "text/plain": [
       "<okgrade.result.TestResult at 0x7f075765a5c0>"
      ]
     },
     "execution_count": 131,
     "metadata": {
      "tags": []
     },
     "output_type": "execute_result"
    }
   ],
   "source": [
    "grade('q2_2.ok')"
   ]
  },
  {
   "cell_type": "markdown",
   "metadata": {
    "colab_type": "text",
    "deletable": false,
    "editable": false,
    "id": "vhl3S--7NkDH"
   },
   "source": [
    "**Question 3.** Assuming that the `poverty_total` numbers in the `recent` table describe *all* people in 2010 living in extreme poverty, assign the name `poverty_percent` to the percentage of the world's 2010 population that were living in extreme poverty. You should find a number that is above the 2018 global estimate of 8%, since many country-specific poverty rates are older than 2018.\n",
    "\n",
    "*Hint*: The sum of the `population_total` column in the `recent` table is not the world population, because only a subset of the world's countries have known poverty rates. Use the `population` table to compute the world's 2010 total population."
   ]
  },
  {
   "cell_type": "code",
   "execution_count": 0,
   "metadata": {
    "colab": {},
    "colab_type": "code",
    "id": "fqG7_P2EBD-K"
   },
   "outputs": [],
   "source": [
    "population"
   ]
  },
  {
   "cell_type": "code",
   "execution_count": 12,
   "metadata": {
    "colab": {
     "base_uri": "https://localhost:8080/",
     "height": 34
    },
    "colab_type": "code",
    "deletable": false,
    "id": "Q0PbxQtNNkDH",
    "outputId": "02430a30-4cfd-44b1-b804-57cb86500366"
   },
   "outputs": [
    {
     "data": {
      "text/plain": [
       "14.299370218520854"
      ]
     },
     "execution_count": 12,
     "metadata": {
      "tags": []
     },
     "output_type": "execute_result"
    }
   ],
   "source": [
    "pop_sum = np.sum(population.where(\"time\",2010).column(\"population_total\"))\n",
    "poverty_sum = np.sum(recent.column(\"poverty_total\"))\n",
    "poverty_percent = 100*poverty_sum/pop_sum\n",
    "poverty_percent"
   ]
  },
  {
   "cell_type": "code",
   "execution_count": 134,
   "metadata": {
    "colab": {
     "base_uri": "https://localhost:8080/",
     "height": 34
    },
    "colab_type": "code",
    "deletable": false,
    "editable": false,
    "id": "eYat9JdhNkDK",
    "outputId": "b02ef77d-668d-48c0-a4fc-878b8d1e0c58"
   },
   "outputs": [
    {
     "data": {
      "text/html": [
       "<pre>q2_3.ok: All tests passed!</pre>"
      ],
      "text/plain": [
       "<okgrade.result.TestResult at 0x7f0756fc4400>"
      ]
     },
     "execution_count": 134,
     "metadata": {
      "tags": []
     },
     "output_type": "execute_result"
    }
   ],
   "source": [
    "grade('q2_3.ok')"
   ]
  },
  {
   "cell_type": "markdown",
   "metadata": {
    "colab_type": "text",
    "deletable": false,
    "editable": false,
    "id": "oQ1CuXqyNkDO"
   },
   "source": [
    "The `countries` table includes not only the name and region of countries, but also their positions on the globe."
   ]
  },
  {
   "cell_type": "code",
   "execution_count": 17,
   "metadata": {
    "colab": {
     "base_uri": "https://localhost:8080/",
     "height": 376
    },
    "colab_type": "code",
    "deletable": false,
    "editable": false,
    "id": "nIg6PUezNkDP",
    "outputId": "81992cc3-9b75-4d37-9a61-40c736e3eb05"
   },
   "outputs": [
    {
     "data": {
      "text/html": [
       "<table border=\"1\" class=\"dataframe\">\n",
       "    <thead>\n",
       "        <tr>\n",
       "            <th>country</th> <th>name</th> <th>world_4region</th> <th>latitude</th> <th>longitude</th>\n",
       "        </tr>\n",
       "    </thead>\n",
       "    <tbody>\n",
       "        <tr>\n",
       "            <td>afg      </td> <td>Afghanistan          </td> <td>asia         </td> <td>33      </td> <td>66       </td>\n",
       "        </tr>\n",
       "        <tr>\n",
       "            <td>akr_a_dhe</td> <td>Akrotiri and Dhekelia</td> <td>europe       </td> <td>nan     </td> <td>nan      </td>\n",
       "        </tr>\n",
       "        <tr>\n",
       "            <td>alb      </td> <td>Albania              </td> <td>europe       </td> <td>41      </td> <td>20       </td>\n",
       "        </tr>\n",
       "        <tr>\n",
       "            <td>dza      </td> <td>Algeria              </td> <td>africa       </td> <td>28      </td> <td>3        </td>\n",
       "        </tr>\n",
       "        <tr>\n",
       "            <td>asm      </td> <td>American Samoa       </td> <td>asia         </td> <td>-11.056 </td> <td>-171.082 </td>\n",
       "        </tr>\n",
       "        <tr>\n",
       "            <td>and      </td> <td>Andorra              </td> <td>europe       </td> <td>42.5078 </td> <td>1.52109  </td>\n",
       "        </tr>\n",
       "        <tr>\n",
       "            <td>ago      </td> <td>Angola               </td> <td>africa       </td> <td>-12.5   </td> <td>18.5     </td>\n",
       "        </tr>\n",
       "        <tr>\n",
       "            <td>aia      </td> <td>Anguilla             </td> <td>americas     </td> <td>18.2167 </td> <td>-63.05   </td>\n",
       "        </tr>\n",
       "        <tr>\n",
       "            <td>atg      </td> <td>Antigua and Barbuda  </td> <td>americas     </td> <td>17.05   </td> <td>-61.8    </td>\n",
       "        </tr>\n",
       "        <tr>\n",
       "            <td>arg      </td> <td>Argentina            </td> <td>americas     </td> <td>-34     </td> <td>-64      </td>\n",
       "        </tr>\n",
       "    </tbody>\n",
       "</table>\n",
       "<p>... (245 rows omitted)</p>"
      ],
      "text/plain": [
       "country   | name                  | world_4region | latitude | longitude\n",
       "afg       | Afghanistan           | asia          | 33       | 66\n",
       "akr_a_dhe | Akrotiri and Dhekelia | europe        | nan      | nan\n",
       "alb       | Albania               | europe        | 41       | 20\n",
       "dza       | Algeria               | africa        | 28       | 3\n",
       "asm       | American Samoa        | asia          | -11.056  | -171.082\n",
       "and       | Andorra               | europe        | 42.5078  | 1.52109\n",
       "ago       | Angola                | africa        | -12.5    | 18.5\n",
       "aia       | Anguilla              | americas      | 18.2167  | -63.05\n",
       "atg       | Antigua and Barbuda   | americas      | 17.05    | -61.8\n",
       "arg       | Argentina             | americas      | -34      | -64\n",
       "... (245 rows omitted)"
      ]
     },
     "execution_count": 17,
     "metadata": {
      "tags": []
     },
     "output_type": "execute_result"
    }
   ],
   "source": [
    "countries.select('country', 'name', 'world_4region', 'latitude', 'longitude')"
   ]
  },
  {
   "cell_type": "markdown",
   "metadata": {
    "colab_type": "text",
    "deletable": false,
    "editable": false,
    "id": "K_ZZ5TYoNkDR"
   },
   "source": [
    "**Question 4.** Using both `countries` and `recent`, create a five-column table called `poverty_map` with one row for every country in `recent`.  The four columns should have the following labels and contents:\n",
    "1. `latitude` contains the country's latitude,\n",
    "1. `longitude` contains the country's longitude,\n",
    "1. `name` contains the country's name,\n",
    "1. `region` contains the country's region from the `world_4region` column of `countries`,\n",
    "1. `poverty_total` contains the country's poverty total."
   ]
  },
  {
   "cell_type": "code",
   "execution_count": 0,
   "metadata": {
    "colab": {},
    "colab_type": "code",
    "id": "_p-91C_qd-xX"
   },
   "outputs": [],
   "source": [
    "countries_array = recent.column(\"geo\")\n",
    "countries_array\n",
    "\n",
    "poverty_map = countries.where(\"country\", are.contained_in(countries_array)).sort(\"country\",descending = False).select('name', 'world_4region', 'latitude', 'longitude')\n",
    "poverty_map = poverty_map.with_column(\"poverty_total\", recent.column(\"poverty_total\"))\n",
    "poverty_map = poverty_map.relabeled(\"world_4region\",\"region\")\n",
    "poverty_map.labels\n",
    "poverty_map = Table().with_columns(\"latitude\",poverty_map.column(\"latitude\"),\n",
    "                                   \"longitude\",poverty_map.column(\"longitude\"),\n",
    "                                   \"name\",poverty_map.column(\"name\"),\n",
    "                                   \"region\",poverty_map.column(\"region\"),\n",
    "                                   \"poverty_total\",poverty_map.column(\"poverty_total\"))"
   ]
  },
  {
   "cell_type": "code",
   "execution_count": 46,
   "metadata": {
    "colab": {
     "base_uri": "https://localhost:8080/",
     "height": 34
    },
    "colab_type": "code",
    "deletable": false,
    "editable": false,
    "id": "1MCCWgOCNkDV",
    "outputId": "648db6e8-1a02-405b-c0fd-767c4f0435de"
   },
   "outputs": [
    {
     "data": {
      "text/html": [
       "<pre>q2_4.ok: All tests passed!</pre>"
      ],
      "text/plain": [
       "<okgrade.result.TestResult at 0x7f02dc2e4160>"
      ]
     },
     "execution_count": 46,
     "metadata": {
      "tags": []
     },
     "output_type": "execute_result"
    }
   ],
   "source": [
    "grade('q2_4.ok')"
   ]
  },
  {
   "cell_type": "markdown",
   "metadata": {
    "colab_type": "text",
    "deletable": false,
    "editable": false,
    "id": "hbFQvfM3NkDa"
   },
   "source": [
    "Run the cell below to draw a map of the world in which the areas of circles represent the number of people living in extreme poverty. Double-click on the map to zoom in."
   ]
  },
  {
   "cell_type": "code",
   "execution_count": 13,
   "metadata": {
    "colab": {
     "base_uri": "https://localhost:8080/",
     "height": 665
    },
    "colab_type": "code",
    "deletable": false,
    "editable": false,
    "id": "hqVFnyzgNkDc",
    "outputId": "36a7517a-a9c1-44d3-dd61-4eb7bac1969a"
   },
   "outputs": [
    {
     "name": "stderr",
     "output_type": "stream",
     "text": [
      "/usr/local/lib/python3.6/dist-packages/datascience/maps.py:368: FutureWarning: circle_marker is deprecated. Use add_children(CircleMarker) instead\n",
      "  f(**self._folium_kwargs)\n"
     ]
    },
    {
     "data": {
      "text/html": [
       "<div style=\"width:100%;\"><div style=\"position:relative;width:100%;height:0;padding-bottom:60%;\"><iframe src=\"data:text/html;base64,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\" style=\"position:absolute;width:100%;height:100%;left:0;top:0;\"></iframe></div></div>"
      ],
      "text/plain": [
       "<datascience.maps.Map at 0x7fef1d286400>"
      ]
     },
     "execution_count": 13,
     "metadata": {
      "tags": []
     },
     "output_type": "execute_result"
    }
   ],
   "source": [
    "# It may take a few seconds to generate this map.\n",
    "colors = {'africa': 'blue', 'europe': 'black', 'asia': 'red', 'americas': 'green'}\n",
    "scaled = poverty_map.with_column(\n",
    "    'poverty_total', 2e4 * poverty_map.column('poverty_total'),\n",
    "    'region', poverty_map.apply(colors.get, 'region')\n",
    ")\n",
    "Circle.map_table(scaled)"
   ]
  },
  {
   "cell_type": "markdown",
   "metadata": {
    "colab_type": "text",
    "deletable": false,
    "editable": false,
    "id": "u3wuLWr7NkDe"
   },
   "source": [
    "Although people live in extreme poverty throughout the world (with more than 5 million in the United States), the largest numbers are in Asia and Africa."
   ]
  },
  {
   "cell_type": "markdown",
   "metadata": {
    "colab_type": "text",
    "deletable": false,
    "editable": false,
    "id": "5UKNhn3xNkDg"
   },
   "source": [
    "**Question 5.** Assign `largest` to a two-column table with the `name` (not the 3-letter code) and `poverty_total` of the 10 countries with the largest number of people living in extreme poverty."
   ]
  },
  {
   "cell_type": "code",
   "execution_count": 14,
   "metadata": {
    "colab": {
     "base_uri": "https://localhost:8080/",
     "height": 359
    },
    "colab_type": "code",
    "deletable": false,
    "id": "BI5N_VedNkDh",
    "outputId": "c0a150cb-d38a-4e48-fdbc-543cf5dccaf7"
   },
   "outputs": [
    {
     "data": {
      "text/html": [
       "<table border=\"1\" class=\"dataframe\">\n",
       "    <thead>\n",
       "        <tr>\n",
       "            <th>name</th> <th>poverty_total</th>\n",
       "        </tr>\n",
       "    </thead>\n",
       "    <tbody>\n",
       "        <tr>\n",
       "            <td>India           </td> <td>2.90882e+08  </td>\n",
       "        </tr>\n",
       "        <tr>\n",
       "            <td>Nigeria         </td> <td>9.88912e+07  </td>\n",
       "        </tr>\n",
       "        <tr>\n",
       "            <td>China           </td> <td>8.39446e+07  </td>\n",
       "        </tr>\n",
       "        <tr>\n",
       "            <td>Bangladesh      </td> <td>6.55743e+07  </td>\n",
       "        </tr>\n",
       "        <tr>\n",
       "            <td>Congo, Dem. Rep.</td> <td>5.78414e+07  </td>\n",
       "        </tr>\n",
       "        <tr>\n",
       "            <td>Indonesia       </td> <td>3.91413e+07  </td>\n",
       "        </tr>\n",
       "        <tr>\n",
       "            <td>Ethiopia        </td> <td>3.2214e+07   </td>\n",
       "        </tr>\n",
       "        <tr>\n",
       "            <td>Pakistan        </td> <td>2.16636e+07  </td>\n",
       "        </tr>\n",
       "        <tr>\n",
       "            <td>Tanzania        </td> <td>1.9848e+07   </td>\n",
       "        </tr>\n",
       "        <tr>\n",
       "            <td>Madagascar      </td> <td>1.84804e+07  </td>\n",
       "        </tr>\n",
       "    </tbody>\n",
       "</table>"
      ],
      "text/plain": [
       "name             | poverty_total\n",
       "India            | 2.90882e+08\n",
       "Nigeria          | 9.88912e+07\n",
       "China            | 8.39446e+07\n",
       "Bangladesh       | 6.55743e+07\n",
       "Congo, Dem. Rep. | 5.78414e+07\n",
       "Indonesia        | 3.91413e+07\n",
       "Ethiopia         | 3.2214e+07\n",
       "Pakistan         | 2.16636e+07\n",
       "Tanzania         | 1.9848e+07\n",
       "Madagascar       | 1.84804e+07"
      ]
     },
     "execution_count": 14,
     "metadata": {
      "tags": []
     },
     "output_type": "execute_result"
    }
   ],
   "source": [
    "poverty_map = poverty_map.sort(\"poverty_total\",descending = True)\n",
    "#poverty_map.where(\"name\",\"India\")\n",
    "largest = poverty_map.take(np.arange(10))\n",
    "largest = largest.select(\"name\",\"poverty_total\")\n",
    "largest"
   ]
  },
  {
   "cell_type": "code",
   "execution_count": 51,
   "metadata": {
    "colab": {
     "base_uri": "https://localhost:8080/",
     "height": 34
    },
    "colab_type": "code",
    "deletable": false,
    "editable": false,
    "id": "C_pMs3PtNkDj",
    "outputId": "7d5234a6-9a63-4b9e-8220-fbd901ab3396"
   },
   "outputs": [
    {
     "data": {
      "text/html": [
       "<pre>q2_5.ok: All tests passed!</pre>"
      ],
      "text/plain": [
       "<okgrade.result.TestResult at 0x7f02dc23c4a8>"
      ]
     },
     "execution_count": 51,
     "metadata": {
      "tags": []
     },
     "output_type": "execute_result"
    }
   ],
   "source": [
    "grade('q2_5.ok')"
   ]
  },
  {
   "cell_type": "markdown",
   "metadata": {
    "colab_type": "text",
    "deletable": false,
    "id": "5LQ1HKgfNkDm"
   },
   "source": [
    "**Question 6.** Write a function called `poverty_timeline` that takes **the name of a country** as its argument. It should draw a line plot of the number of people living in poverty in that country with time on the horizontal axis. The line plot should have a point for each row in the `poverty` table for that country. To compute the population living in poverty from a poverty percentage, multiply by the population of the country **in that year**.\n",
    "\n",
    "*Hint*: The names within the `poverty_timeline` function correspond to our staff solution, but you don't need to use them. Any way that you want to draw the plot is fine, as long as it generates the correct graph.\n",
    "\n",
    "*Hint*: For the `apply` method, if you don't specify a particular column to apply your function on, the whole row is used as an input to the function. Elements inside a row can be accessed using `.item`.\n",
    "\n",
    "*Hint:* This question is long. Feel free to create cells and experiment. "
   ]
  },
  {
   "cell_type": "code",
   "execution_count": 0,
   "metadata": {
    "colab": {},
    "colab_type": "code",
    "id": "HmCNApwan5Ux"
   },
   "outputs": [],
   "source": [
    "poverty"
   ]
  },
  {
   "cell_type": "code",
   "execution_count": 0,
   "metadata": {
    "colab": {},
    "colab_type": "code",
    "id": "bH7BInInpnj7"
   },
   "outputs": [],
   "source": [
    "poverty"
   ]
  },
  {
   "cell_type": "code",
   "execution_count": 0,
   "metadata": {
    "colab": {},
    "colab_type": "code",
    "id": "cVcP0HWKpo79"
   },
   "outputs": [],
   "source": [
    "population"
   ]
  },
  {
   "cell_type": "code",
   "execution_count": 0,
   "metadata": {
    "colab": {},
    "colab_type": "code",
    "deletable": false,
    "id": "B2BwfBqVNkDm",
    "manual_grade": true,
    "manual_problem_id": "global_poverty_6"
   },
   "outputs": [],
   "source": [
    "\n",
    "def poverty_timeline(country):\n",
    "    \"\"\"Draw a timeline of people living in extreme poverty in a country.\"\"\"\n",
    "    \n",
    "    #geo code\n",
    "    geo = countries.where(\"name\",country).column(\"country\").item(0)\n",
    "\n",
    "    #rows of poverty table with that country code\n",
    "    country_poverty = poverty.where(\"geo\",geo)\n",
    "    \n",
    "    #rows of population with that country code\n",
    "    country_population = population.where(\"geo\",geo)\n",
    "    \n",
    "    #years that there's population data\n",
    "    poverty_years = country_poverty.column(\"time\")\n",
    "    \n",
    "    poverty_percent = country_poverty.column(\"extreme_poverty_percent_people_below_125_a_day\")\n",
    "    \n",
    "    population_array = country_population.where(\"time\",are.contained_in(poverty_years)).column(\"population_total\")\n",
    "    \n",
    "    country_poverty_total = poverty_percent*population_array/100\n",
    "    \n",
    "    country_poverty = country_poverty.with_columns(\"poverty_total\",country_poverty_total)\n",
    "    \n",
    "    \n",
    "    country_poverty.plot('time','poverty_total',marker='o')\n"
   ]
  },
  {
   "cell_type": "markdown",
   "metadata": {
    "colab_type": "text",
    "deletable": false,
    "editable": false,
    "id": "WVvSG27yNkDq"
   },
   "source": [
    "Finally, draw the timelines below to see how the world is changing. You can check your work by comparing your graphs to the ones on [gapminder.org](https://goo.gl/lPujuh)."
   ]
  },
  {
   "cell_type": "code",
   "execution_count": 21,
   "metadata": {
    "colab": {
     "base_uri": "https://localhost:8080/",
     "height": 311
    },
    "colab_type": "code",
    "deletable": false,
    "editable": false,
    "id": "LRAho1niNkDq",
    "outputId": "09861025-c63f-42aa-e32c-d3de4589c4eb"
   },
   "outputs": [
    {
     "data": {
      "image/png": "[encoded data removed]",
      "text/plain": [
       "<matplotlib.figure.Figure at 0x7fef1cb6add8>"
      ]
     },
     "metadata": {
      "tags": []
     },
     "output_type": "display_data"
    }
   ],
   "source": [
    "poverty_timeline('India')"
   ]
  },
  {
   "cell_type": "code",
   "execution_count": 22,
   "metadata": {
    "colab": {
     "base_uri": "https://localhost:8080/",
     "height": 311
    },
    "colab_type": "code",
    "deletable": false,
    "editable": false,
    "id": "JL5xfVohNkDs",
    "outputId": "8ffcd814-cd41-43ab-9818-0b55ccf6f283"
   },
   "outputs": [
    {
     "data": {
      "image/png": "[encoded data removed]",
      "text/plain": [
       "<matplotlib.figure.Figure at 0x7fef1cb07400>"
      ]
     },
     "metadata": {
      "tags": []
     },
     "output_type": "display_data"
    }
   ],
   "source": [
    "poverty_timeline('Nigeria')"
   ]
  },
  {
   "cell_type": "code",
   "execution_count": 23,
   "metadata": {
    "colab": {
     "base_uri": "https://localhost:8080/",
     "height": 311
    },
    "colab_type": "code",
    "deletable": false,
    "editable": false,
    "id": "sqqlGBTCNkDv",
    "outputId": "c7beaa2c-7ad4-4ed8-fbb6-04b8c0766c93"
   },
   "outputs": [
    {
     "data": {
      "image/png": "[encoded data removed]",
      "text/plain": [
       "<matplotlib.figure.Figure at 0x7fef1cab7208>"
      ]
     },
     "metadata": {
      "tags": []
     },
     "output_type": "display_data"
    }
   ],
   "source": [
    "poverty_timeline('China')"
   ]
  },
  {
   "cell_type": "code",
   "execution_count": 24,
   "metadata": {
    "colab": {
     "base_uri": "https://localhost:8080/",
     "height": 300
    },
    "colab_type": "code",
    "deletable": false,
    "editable": false,
    "id": "nKNwcQqUNkDz",
    "outputId": "bb3378a3-43dd-44c4-b29f-4619f6979113"
   },
   "outputs": [
    {
     "data": {
      "image/png": "[encoded data removed]",
      "text/plain": [
       "<matplotlib.figure.Figure at 0x7fef1cb33c88>"
      ]
     },
     "metadata": {
      "tags": []
     },
     "output_type": "display_data"
    }
   ],
   "source": [
    "poverty_timeline('United States')"
   ]
  },
  {
   "cell_type": "markdown",
   "metadata": {
    "colab_type": "text",
    "deletable": false,
    "editable": false,
    "id": "U2qHZpaUNkD2"
   },
   "source": [
    "Although the number of people living in extreme poverty has been increasing in Nigeria and the United States, the massive decreases in China and India have shaped the overall trend that extreme poverty is decreasing worldwide, both in percentage and in absolute number. \n",
    "\n",
    "To learn more, watch [Hans Rosling in a 2015 film](https://www.gapminder.org/videos/dont-panic-end-poverty/) about the UN goal of eradicating extreme poverty from the world. \n",
    "\n",
    "Below, we've also added an interactive dropdown menu for you to visualize `poverty_timeline` graphs for other countries. Note that each dropdown menu selection may take a few seconds to run."
   ]
  },
  {
   "cell_type": "code",
   "execution_count": 0,
   "metadata": {
    "colab": {},
    "colab_type": "code",
    "deletable": false,
    "editable": false,
    "id": "nNnfk4ogNkD2"
   },
   "outputs": [],
   "source": [
    "# Just run this cell\n",
    "\n",
    "all_countries = poverty_map.column('name')\n",
    "_ = widgets.interact(poverty_timeline, country=list(all_countries))"
   ]
  },
  {
   "cell_type": "markdown",
   "metadata": {
    "colab_type": "text",
    "deletable": false,
    "editable": false,
    "id": "X8PHLQ6vNkD4"
   },
   "source": [
    "**You're finished!** Congratulations on mastering data visualization and table manipulation. Time to submit."
   ]
  },
  {
   "cell_type": "code",
   "execution_count": 0,
   "metadata": {
    "colab": {},
    "colab_type": "code",
    "deletable": false,
    "editable": false,
    "id": "DM6KgyLCNkD6"
   },
   "outputs": [],
   "source": [
    "_ = ok.submit()"
   ]
  }
 ],
 "metadata": {
  "colab": {
   "collapsed_sections": [],
   "name": "project1-becca2.ipynb",
   "provenance": [],
   "toc_visible": true,
   "version": "0.3.2"
  },
  "kernelspec": {
   "display_name": "Python 3",
   "language": "python",
   "name": "python3"
  },
  "language_info": {
   "codemirror_mode": {
    "name": "ipython",
    "version": 3
   },
   "file_extension": ".py",
   "mimetype": "text/x-python",
   "name": "python",
   "nbconvert_exporter": "python",
   "pygments_lexer": "ipython3",
   "version": "3.6.4"
  }
 },
 "nbformat": 4,
 "nbformat_minor": 1
}
